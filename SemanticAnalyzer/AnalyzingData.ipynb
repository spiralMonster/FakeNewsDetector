{
 "cells": [
  {
   "cell_type": "code",
   "execution_count": 1,
   "id": "5821ea9b-ee42-4a41-9100-9d94df16cf29",
   "metadata": {},
   "outputs": [],
   "source": [
    "import numpy as np\n",
    "import pandas as pd"
   ]
  },
  {
   "cell_type": "code",
   "execution_count": 2,
   "id": "5aaa3937-4f07-4716-8445-9f490aa40c3a",
   "metadata": {},
   "outputs": [],
   "source": [
    "true_news_data=pd.read_csv(\"Data/True.csv\")"
   ]
  },
  {
   "cell_type": "code",
   "execution_count": 3,
   "id": "70af8870-a7e4-4f54-94a4-8e8ddf9e5c63",
   "metadata": {},
   "outputs": [
    {
     "data": {
      "text/html": [
       "<div>\n",
       "<style scoped>\n",
       "    .dataframe tbody tr th:only-of-type {\n",
       "        vertical-align: middle;\n",
       "    }\n",
       "\n",
       "    .dataframe tbody tr th {\n",
       "        vertical-align: top;\n",
       "    }\n",
       "\n",
       "    .dataframe thead th {\n",
       "        text-align: right;\n",
       "    }\n",
       "</style>\n",
       "<table border=\"1\" class=\"dataframe\">\n",
       "  <thead>\n",
       "    <tr style=\"text-align: right;\">\n",
       "      <th></th>\n",
       "      <th>title</th>\n",
       "      <th>text</th>\n",
       "      <th>subject</th>\n",
       "      <th>date</th>\n",
       "    </tr>\n",
       "  </thead>\n",
       "  <tbody>\n",
       "    <tr>\n",
       "      <th>0</th>\n",
       "      <td>As U.S. budget fight looms, Republicans flip t...</td>\n",
       "      <td>WASHINGTON (Reuters) - The head of a conservat...</td>\n",
       "      <td>politicsNews</td>\n",
       "      <td>December 31, 2017</td>\n",
       "    </tr>\n",
       "    <tr>\n",
       "      <th>1</th>\n",
       "      <td>U.S. military to accept transgender recruits o...</td>\n",
       "      <td>WASHINGTON (Reuters) - Transgender people will...</td>\n",
       "      <td>politicsNews</td>\n",
       "      <td>December 29, 2017</td>\n",
       "    </tr>\n",
       "    <tr>\n",
       "      <th>2</th>\n",
       "      <td>Senior U.S. Republican senator: 'Let Mr. Muell...</td>\n",
       "      <td>WASHINGTON (Reuters) - The special counsel inv...</td>\n",
       "      <td>politicsNews</td>\n",
       "      <td>December 31, 2017</td>\n",
       "    </tr>\n",
       "    <tr>\n",
       "      <th>3</th>\n",
       "      <td>FBI Russia probe helped by Australian diplomat...</td>\n",
       "      <td>WASHINGTON (Reuters) - Trump campaign adviser ...</td>\n",
       "      <td>politicsNews</td>\n",
       "      <td>December 30, 2017</td>\n",
       "    </tr>\n",
       "    <tr>\n",
       "      <th>4</th>\n",
       "      <td>Trump wants Postal Service to charge 'much mor...</td>\n",
       "      <td>SEATTLE/WASHINGTON (Reuters) - President Donal...</td>\n",
       "      <td>politicsNews</td>\n",
       "      <td>December 29, 2017</td>\n",
       "    </tr>\n",
       "    <tr>\n",
       "      <th>...</th>\n",
       "      <td>...</td>\n",
       "      <td>...</td>\n",
       "      <td>...</td>\n",
       "      <td>...</td>\n",
       "    </tr>\n",
       "    <tr>\n",
       "      <th>21412</th>\n",
       "      <td>'Fully committed' NATO backs new U.S. approach...</td>\n",
       "      <td>BRUSSELS (Reuters) - NATO allies on Tuesday we...</td>\n",
       "      <td>worldnews</td>\n",
       "      <td>August 22, 2017</td>\n",
       "    </tr>\n",
       "    <tr>\n",
       "      <th>21413</th>\n",
       "      <td>LexisNexis withdrew two products from Chinese ...</td>\n",
       "      <td>LONDON (Reuters) - LexisNexis, a provider of l...</td>\n",
       "      <td>worldnews</td>\n",
       "      <td>August 22, 2017</td>\n",
       "    </tr>\n",
       "    <tr>\n",
       "      <th>21414</th>\n",
       "      <td>Minsk cultural hub becomes haven from authorities</td>\n",
       "      <td>MINSK (Reuters) - In the shadow of disused Sov...</td>\n",
       "      <td>worldnews</td>\n",
       "      <td>August 22, 2017</td>\n",
       "    </tr>\n",
       "    <tr>\n",
       "      <th>21415</th>\n",
       "      <td>Vatican upbeat on possibility of Pope Francis ...</td>\n",
       "      <td>MOSCOW (Reuters) - Vatican Secretary of State ...</td>\n",
       "      <td>worldnews</td>\n",
       "      <td>August 22, 2017</td>\n",
       "    </tr>\n",
       "    <tr>\n",
       "      <th>21416</th>\n",
       "      <td>Indonesia to buy $1.14 billion worth of Russia...</td>\n",
       "      <td>JAKARTA (Reuters) - Indonesia will buy 11 Sukh...</td>\n",
       "      <td>worldnews</td>\n",
       "      <td>August 22, 2017</td>\n",
       "    </tr>\n",
       "  </tbody>\n",
       "</table>\n",
       "<p>21417 rows × 4 columns</p>\n",
       "</div>"
      ],
      "text/plain": [
       "                                                   title  \\\n",
       "0      As U.S. budget fight looms, Republicans flip t...   \n",
       "1      U.S. military to accept transgender recruits o...   \n",
       "2      Senior U.S. Republican senator: 'Let Mr. Muell...   \n",
       "3      FBI Russia probe helped by Australian diplomat...   \n",
       "4      Trump wants Postal Service to charge 'much mor...   \n",
       "...                                                  ...   \n",
       "21412  'Fully committed' NATO backs new U.S. approach...   \n",
       "21413  LexisNexis withdrew two products from Chinese ...   \n",
       "21414  Minsk cultural hub becomes haven from authorities   \n",
       "21415  Vatican upbeat on possibility of Pope Francis ...   \n",
       "21416  Indonesia to buy $1.14 billion worth of Russia...   \n",
       "\n",
       "                                                    text       subject  \\\n",
       "0      WASHINGTON (Reuters) - The head of a conservat...  politicsNews   \n",
       "1      WASHINGTON (Reuters) - Transgender people will...  politicsNews   \n",
       "2      WASHINGTON (Reuters) - The special counsel inv...  politicsNews   \n",
       "3      WASHINGTON (Reuters) - Trump campaign adviser ...  politicsNews   \n",
       "4      SEATTLE/WASHINGTON (Reuters) - President Donal...  politicsNews   \n",
       "...                                                  ...           ...   \n",
       "21412  BRUSSELS (Reuters) - NATO allies on Tuesday we...     worldnews   \n",
       "21413  LONDON (Reuters) - LexisNexis, a provider of l...     worldnews   \n",
       "21414  MINSK (Reuters) - In the shadow of disused Sov...     worldnews   \n",
       "21415  MOSCOW (Reuters) - Vatican Secretary of State ...     worldnews   \n",
       "21416  JAKARTA (Reuters) - Indonesia will buy 11 Sukh...     worldnews   \n",
       "\n",
       "                     date  \n",
       "0      December 31, 2017   \n",
       "1      December 29, 2017   \n",
       "2      December 31, 2017   \n",
       "3      December 30, 2017   \n",
       "4      December 29, 2017   \n",
       "...                   ...  \n",
       "21412    August 22, 2017   \n",
       "21413    August 22, 2017   \n",
       "21414    August 22, 2017   \n",
       "21415    August 22, 2017   \n",
       "21416    August 22, 2017   \n",
       "\n",
       "[21417 rows x 4 columns]"
      ]
     },
     "execution_count": 3,
     "metadata": {},
     "output_type": "execute_result"
    }
   ],
   "source": [
    "true_news_data"
   ]
  },
  {
   "cell_type": "code",
   "execution_count": 5,
   "id": "89b62a99-cf52-414f-af8e-416f9217fd55",
   "metadata": {},
   "outputs": [],
   "source": [
    "fake_news_data=pd.read_csv(\"Data/Fake.csv\")"
   ]
  },
  {
   "cell_type": "code",
   "execution_count": 6,
   "id": "3b5884c5-44f7-4f69-8ec4-3539de48f539",
   "metadata": {},
   "outputs": [
    {
     "data": {
      "text/html": [
       "<div>\n",
       "<style scoped>\n",
       "    .dataframe tbody tr th:only-of-type {\n",
       "        vertical-align: middle;\n",
       "    }\n",
       "\n",
       "    .dataframe tbody tr th {\n",
       "        vertical-align: top;\n",
       "    }\n",
       "\n",
       "    .dataframe thead th {\n",
       "        text-align: right;\n",
       "    }\n",
       "</style>\n",
       "<table border=\"1\" class=\"dataframe\">\n",
       "  <thead>\n",
       "    <tr style=\"text-align: right;\">\n",
       "      <th></th>\n",
       "      <th>title</th>\n",
       "      <th>text</th>\n",
       "      <th>subject</th>\n",
       "      <th>date</th>\n",
       "    </tr>\n",
       "  </thead>\n",
       "  <tbody>\n",
       "    <tr>\n",
       "      <th>0</th>\n",
       "      <td>Donald Trump Sends Out Embarrassing New Year’...</td>\n",
       "      <td>Donald Trump just couldn t wish all Americans ...</td>\n",
       "      <td>News</td>\n",
       "      <td>December 31, 2017</td>\n",
       "    </tr>\n",
       "    <tr>\n",
       "      <th>1</th>\n",
       "      <td>Drunk Bragging Trump Staffer Started Russian ...</td>\n",
       "      <td>House Intelligence Committee Chairman Devin Nu...</td>\n",
       "      <td>News</td>\n",
       "      <td>December 31, 2017</td>\n",
       "    </tr>\n",
       "    <tr>\n",
       "      <th>2</th>\n",
       "      <td>Sheriff David Clarke Becomes An Internet Joke...</td>\n",
       "      <td>On Friday, it was revealed that former Milwauk...</td>\n",
       "      <td>News</td>\n",
       "      <td>December 30, 2017</td>\n",
       "    </tr>\n",
       "    <tr>\n",
       "      <th>3</th>\n",
       "      <td>Trump Is So Obsessed He Even Has Obama’s Name...</td>\n",
       "      <td>On Christmas day, Donald Trump announced that ...</td>\n",
       "      <td>News</td>\n",
       "      <td>December 29, 2017</td>\n",
       "    </tr>\n",
       "    <tr>\n",
       "      <th>4</th>\n",
       "      <td>Pope Francis Just Called Out Donald Trump Dur...</td>\n",
       "      <td>Pope Francis used his annual Christmas Day mes...</td>\n",
       "      <td>News</td>\n",
       "      <td>December 25, 2017</td>\n",
       "    </tr>\n",
       "    <tr>\n",
       "      <th>...</th>\n",
       "      <td>...</td>\n",
       "      <td>...</td>\n",
       "      <td>...</td>\n",
       "      <td>...</td>\n",
       "    </tr>\n",
       "    <tr>\n",
       "      <th>23476</th>\n",
       "      <td>McPain: John McCain Furious That Iran Treated ...</td>\n",
       "      <td>21st Century Wire says As 21WIRE reported earl...</td>\n",
       "      <td>Middle-east</td>\n",
       "      <td>January 16, 2016</td>\n",
       "    </tr>\n",
       "    <tr>\n",
       "      <th>23477</th>\n",
       "      <td>JUSTICE? Yahoo Settles E-mail Privacy Class-ac...</td>\n",
       "      <td>21st Century Wire says It s a familiar theme. ...</td>\n",
       "      <td>Middle-east</td>\n",
       "      <td>January 16, 2016</td>\n",
       "    </tr>\n",
       "    <tr>\n",
       "      <th>23478</th>\n",
       "      <td>Sunnistan: US and Allied ‘Safe Zone’ Plan to T...</td>\n",
       "      <td>Patrick Henningsen  21st Century WireRemember ...</td>\n",
       "      <td>Middle-east</td>\n",
       "      <td>January 15, 2016</td>\n",
       "    </tr>\n",
       "    <tr>\n",
       "      <th>23479</th>\n",
       "      <td>How to Blow $700 Million: Al Jazeera America F...</td>\n",
       "      <td>21st Century Wire says Al Jazeera America will...</td>\n",
       "      <td>Middle-east</td>\n",
       "      <td>January 14, 2016</td>\n",
       "    </tr>\n",
       "    <tr>\n",
       "      <th>23480</th>\n",
       "      <td>10 U.S. Navy Sailors Held by Iranian Military ...</td>\n",
       "      <td>21st Century Wire says As 21WIRE predicted in ...</td>\n",
       "      <td>Middle-east</td>\n",
       "      <td>January 12, 2016</td>\n",
       "    </tr>\n",
       "  </tbody>\n",
       "</table>\n",
       "<p>23481 rows × 4 columns</p>\n",
       "</div>"
      ],
      "text/plain": [
       "                                                   title  \\\n",
       "0       Donald Trump Sends Out Embarrassing New Year’...   \n",
       "1       Drunk Bragging Trump Staffer Started Russian ...   \n",
       "2       Sheriff David Clarke Becomes An Internet Joke...   \n",
       "3       Trump Is So Obsessed He Even Has Obama’s Name...   \n",
       "4       Pope Francis Just Called Out Donald Trump Dur...   \n",
       "...                                                  ...   \n",
       "23476  McPain: John McCain Furious That Iran Treated ...   \n",
       "23477  JUSTICE? Yahoo Settles E-mail Privacy Class-ac...   \n",
       "23478  Sunnistan: US and Allied ‘Safe Zone’ Plan to T...   \n",
       "23479  How to Blow $700 Million: Al Jazeera America F...   \n",
       "23480  10 U.S. Navy Sailors Held by Iranian Military ...   \n",
       "\n",
       "                                                    text      subject  \\\n",
       "0      Donald Trump just couldn t wish all Americans ...         News   \n",
       "1      House Intelligence Committee Chairman Devin Nu...         News   \n",
       "2      On Friday, it was revealed that former Milwauk...         News   \n",
       "3      On Christmas day, Donald Trump announced that ...         News   \n",
       "4      Pope Francis used his annual Christmas Day mes...         News   \n",
       "...                                                  ...          ...   \n",
       "23476  21st Century Wire says As 21WIRE reported earl...  Middle-east   \n",
       "23477  21st Century Wire says It s a familiar theme. ...  Middle-east   \n",
       "23478  Patrick Henningsen  21st Century WireRemember ...  Middle-east   \n",
       "23479  21st Century Wire says Al Jazeera America will...  Middle-east   \n",
       "23480  21st Century Wire says As 21WIRE predicted in ...  Middle-east   \n",
       "\n",
       "                    date  \n",
       "0      December 31, 2017  \n",
       "1      December 31, 2017  \n",
       "2      December 30, 2017  \n",
       "3      December 29, 2017  \n",
       "4      December 25, 2017  \n",
       "...                  ...  \n",
       "23476   January 16, 2016  \n",
       "23477   January 16, 2016  \n",
       "23478   January 15, 2016  \n",
       "23479   January 14, 2016  \n",
       "23480   January 12, 2016  \n",
       "\n",
       "[23481 rows x 4 columns]"
      ]
     },
     "execution_count": 6,
     "metadata": {},
     "output_type": "execute_result"
    }
   ],
   "source": [
    "fake_news_data"
   ]
  },
  {
   "cell_type": "code",
   "execution_count": 7,
   "id": "d2e56478-6e32-427f-aac7-59811036a61d",
   "metadata": {},
   "outputs": [],
   "source": [
    "true_news_data[\"num_words_title\"]=true_news_data[\"title\"].map(lambda x: len(x.split(\" \")))\n",
    "true_news_data[\"num_words_text\"]=true_news_data[\"text\"].map(lambda x: len(x.split(\" \")))"
   ]
  },
  {
   "cell_type": "code",
   "execution_count": 8,
   "id": "7dbd39a7-5817-4cb0-9fb0-4d602981d150",
   "metadata": {},
   "outputs": [
    {
     "data": {
      "text/html": [
       "<div>\n",
       "<style scoped>\n",
       "    .dataframe tbody tr th:only-of-type {\n",
       "        vertical-align: middle;\n",
       "    }\n",
       "\n",
       "    .dataframe tbody tr th {\n",
       "        vertical-align: top;\n",
       "    }\n",
       "\n",
       "    .dataframe thead th {\n",
       "        text-align: right;\n",
       "    }\n",
       "</style>\n",
       "<table border=\"1\" class=\"dataframe\">\n",
       "  <thead>\n",
       "    <tr style=\"text-align: right;\">\n",
       "      <th></th>\n",
       "      <th>title</th>\n",
       "      <th>text</th>\n",
       "      <th>subject</th>\n",
       "      <th>date</th>\n",
       "      <th>num_words_title</th>\n",
       "      <th>num_words_text</th>\n",
       "    </tr>\n",
       "  </thead>\n",
       "  <tbody>\n",
       "    <tr>\n",
       "      <th>0</th>\n",
       "      <td>As U.S. budget fight looms, Republicans flip t...</td>\n",
       "      <td>WASHINGTON (Reuters) - The head of a conservat...</td>\n",
       "      <td>politicsNews</td>\n",
       "      <td>December 31, 2017</td>\n",
       "      <td>10</td>\n",
       "      <td>753</td>\n",
       "    </tr>\n",
       "    <tr>\n",
       "      <th>1</th>\n",
       "      <td>U.S. military to accept transgender recruits o...</td>\n",
       "      <td>WASHINGTON (Reuters) - Transgender people will...</td>\n",
       "      <td>politicsNews</td>\n",
       "      <td>December 29, 2017</td>\n",
       "      <td>9</td>\n",
       "      <td>625</td>\n",
       "    </tr>\n",
       "    <tr>\n",
       "      <th>2</th>\n",
       "      <td>Senior U.S. Republican senator: 'Let Mr. Muell...</td>\n",
       "      <td>WASHINGTON (Reuters) - The special counsel inv...</td>\n",
       "      <td>politicsNews</td>\n",
       "      <td>December 31, 2017</td>\n",
       "      <td>10</td>\n",
       "      <td>466</td>\n",
       "    </tr>\n",
       "    <tr>\n",
       "      <th>3</th>\n",
       "      <td>FBI Russia probe helped by Australian diplomat...</td>\n",
       "      <td>WASHINGTON (Reuters) - Trump campaign adviser ...</td>\n",
       "      <td>politicsNews</td>\n",
       "      <td>December 30, 2017</td>\n",
       "      <td>9</td>\n",
       "      <td>377</td>\n",
       "    </tr>\n",
       "    <tr>\n",
       "      <th>4</th>\n",
       "      <td>Trump wants Postal Service to charge 'much mor...</td>\n",
       "      <td>SEATTLE/WASHINGTON (Reuters) - President Donal...</td>\n",
       "      <td>politicsNews</td>\n",
       "      <td>December 29, 2017</td>\n",
       "      <td>11</td>\n",
       "      <td>864</td>\n",
       "    </tr>\n",
       "    <tr>\n",
       "      <th>...</th>\n",
       "      <td>...</td>\n",
       "      <td>...</td>\n",
       "      <td>...</td>\n",
       "      <td>...</td>\n",
       "      <td>...</td>\n",
       "      <td>...</td>\n",
       "    </tr>\n",
       "    <tr>\n",
       "      <th>21412</th>\n",
       "      <td>'Fully committed' NATO backs new U.S. approach...</td>\n",
       "      <td>BRUSSELS (Reuters) - NATO allies on Tuesday we...</td>\n",
       "      <td>worldnews</td>\n",
       "      <td>August 22, 2017</td>\n",
       "      <td>9</td>\n",
       "      <td>485</td>\n",
       "    </tr>\n",
       "    <tr>\n",
       "      <th>21413</th>\n",
       "      <td>LexisNexis withdrew two products from Chinese ...</td>\n",
       "      <td>LONDON (Reuters) - LexisNexis, a provider of l...</td>\n",
       "      <td>worldnews</td>\n",
       "      <td>August 22, 2017</td>\n",
       "      <td>7</td>\n",
       "      <td>134</td>\n",
       "    </tr>\n",
       "    <tr>\n",
       "      <th>21414</th>\n",
       "      <td>Minsk cultural hub becomes haven from authorities</td>\n",
       "      <td>MINSK (Reuters) - In the shadow of disused Sov...</td>\n",
       "      <td>worldnews</td>\n",
       "      <td>August 22, 2017</td>\n",
       "      <td>7</td>\n",
       "      <td>337</td>\n",
       "    </tr>\n",
       "    <tr>\n",
       "      <th>21415</th>\n",
       "      <td>Vatican upbeat on possibility of Pope Francis ...</td>\n",
       "      <td>MOSCOW (Reuters) - Vatican Secretary of State ...</td>\n",
       "      <td>worldnews</td>\n",
       "      <td>August 22, 2017</td>\n",
       "      <td>9</td>\n",
       "      <td>213</td>\n",
       "    </tr>\n",
       "    <tr>\n",
       "      <th>21416</th>\n",
       "      <td>Indonesia to buy $1.14 billion worth of Russia...</td>\n",
       "      <td>JAKARTA (Reuters) - Indonesia will buy 11 Sukh...</td>\n",
       "      <td>worldnews</td>\n",
       "      <td>August 22, 2017</td>\n",
       "      <td>9</td>\n",
       "      <td>212</td>\n",
       "    </tr>\n",
       "  </tbody>\n",
       "</table>\n",
       "<p>21417 rows × 6 columns</p>\n",
       "</div>"
      ],
      "text/plain": [
       "                                                   title  \\\n",
       "0      As U.S. budget fight looms, Republicans flip t...   \n",
       "1      U.S. military to accept transgender recruits o...   \n",
       "2      Senior U.S. Republican senator: 'Let Mr. Muell...   \n",
       "3      FBI Russia probe helped by Australian diplomat...   \n",
       "4      Trump wants Postal Service to charge 'much mor...   \n",
       "...                                                  ...   \n",
       "21412  'Fully committed' NATO backs new U.S. approach...   \n",
       "21413  LexisNexis withdrew two products from Chinese ...   \n",
       "21414  Minsk cultural hub becomes haven from authorities   \n",
       "21415  Vatican upbeat on possibility of Pope Francis ...   \n",
       "21416  Indonesia to buy $1.14 billion worth of Russia...   \n",
       "\n",
       "                                                    text       subject  \\\n",
       "0      WASHINGTON (Reuters) - The head of a conservat...  politicsNews   \n",
       "1      WASHINGTON (Reuters) - Transgender people will...  politicsNews   \n",
       "2      WASHINGTON (Reuters) - The special counsel inv...  politicsNews   \n",
       "3      WASHINGTON (Reuters) - Trump campaign adviser ...  politicsNews   \n",
       "4      SEATTLE/WASHINGTON (Reuters) - President Donal...  politicsNews   \n",
       "...                                                  ...           ...   \n",
       "21412  BRUSSELS (Reuters) - NATO allies on Tuesday we...     worldnews   \n",
       "21413  LONDON (Reuters) - LexisNexis, a provider of l...     worldnews   \n",
       "21414  MINSK (Reuters) - In the shadow of disused Sov...     worldnews   \n",
       "21415  MOSCOW (Reuters) - Vatican Secretary of State ...     worldnews   \n",
       "21416  JAKARTA (Reuters) - Indonesia will buy 11 Sukh...     worldnews   \n",
       "\n",
       "                     date  num_words_title  num_words_text  \n",
       "0      December 31, 2017                10             753  \n",
       "1      December 29, 2017                 9             625  \n",
       "2      December 31, 2017                10             466  \n",
       "3      December 30, 2017                 9             377  \n",
       "4      December 29, 2017                11             864  \n",
       "...                   ...              ...             ...  \n",
       "21412    August 22, 2017                 9             485  \n",
       "21413    August 22, 2017                 7             134  \n",
       "21414    August 22, 2017                 7             337  \n",
       "21415    August 22, 2017                 9             213  \n",
       "21416    August 22, 2017                 9             212  \n",
       "\n",
       "[21417 rows x 6 columns]"
      ]
     },
     "execution_count": 8,
     "metadata": {},
     "output_type": "execute_result"
    }
   ],
   "source": [
    "true_news_data"
   ]
  },
  {
   "cell_type": "code",
   "execution_count": 43,
   "id": "50d8bf2d-9749-40e2-94ec-da332fde2e33",
   "metadata": {},
   "outputs": [
    {
     "data": {
      "text/html": [
       "<div>\n",
       "<style scoped>\n",
       "    .dataframe tbody tr th:only-of-type {\n",
       "        vertical-align: middle;\n",
       "    }\n",
       "\n",
       "    .dataframe tbody tr th {\n",
       "        vertical-align: top;\n",
       "    }\n",
       "\n",
       "    .dataframe thead th {\n",
       "        text-align: right;\n",
       "    }\n",
       "</style>\n",
       "<table border=\"1\" class=\"dataframe\">\n",
       "  <thead>\n",
       "    <tr style=\"text-align: right;\">\n",
       "      <th></th>\n",
       "      <th>title</th>\n",
       "      <th>text</th>\n",
       "      <th>subject</th>\n",
       "      <th>date</th>\n",
       "      <th>num_words_title</th>\n",
       "      <th>num_words_text</th>\n",
       "    </tr>\n",
       "  </thead>\n",
       "  <tbody>\n",
       "    <tr>\n",
       "      <th>0</th>\n",
       "      <td>Donald Trump Sends Out Embarrassing New Year’...</td>\n",
       "      <td>Donald Trump just couldn t wish all Americans ...</td>\n",
       "      <td>News</td>\n",
       "      <td>December 31, 2017</td>\n",
       "      <td>13</td>\n",
       "      <td>516</td>\n",
       "    </tr>\n",
       "    <tr>\n",
       "      <th>1</th>\n",
       "      <td>Drunk Bragging Trump Staffer Started Russian ...</td>\n",
       "      <td>House Intelligence Committee Chairman Devin Nu...</td>\n",
       "      <td>News</td>\n",
       "      <td>December 31, 2017</td>\n",
       "      <td>9</td>\n",
       "      <td>309</td>\n",
       "    </tr>\n",
       "    <tr>\n",
       "      <th>2</th>\n",
       "      <td>Sheriff David Clarke Becomes An Internet Joke...</td>\n",
       "      <td>On Friday, it was revealed that former Milwauk...</td>\n",
       "      <td>News</td>\n",
       "      <td>December 30, 2017</td>\n",
       "      <td>16</td>\n",
       "      <td>600</td>\n",
       "    </tr>\n",
       "    <tr>\n",
       "      <th>3</th>\n",
       "      <td>Trump Is So Obsessed He Even Has Obama’s Name...</td>\n",
       "      <td>On Christmas day, Donald Trump announced that ...</td>\n",
       "      <td>News</td>\n",
       "      <td>December 29, 2017</td>\n",
       "      <td>15</td>\n",
       "      <td>475</td>\n",
       "    </tr>\n",
       "    <tr>\n",
       "      <th>4</th>\n",
       "      <td>Pope Francis Just Called Out Donald Trump Dur...</td>\n",
       "      <td>Pope Francis used his annual Christmas Day mes...</td>\n",
       "      <td>News</td>\n",
       "      <td>December 25, 2017</td>\n",
       "      <td>12</td>\n",
       "      <td>434</td>\n",
       "    </tr>\n",
       "    <tr>\n",
       "      <th>...</th>\n",
       "      <td>...</td>\n",
       "      <td>...</td>\n",
       "      <td>...</td>\n",
       "      <td>...</td>\n",
       "      <td>...</td>\n",
       "      <td>...</td>\n",
       "    </tr>\n",
       "    <tr>\n",
       "      <th>23476</th>\n",
       "      <td>McPain: John McCain Furious That Iran Treated ...</td>\n",
       "      <td>21st Century Wire says As 21WIRE reported earl...</td>\n",
       "      <td>Middle-east</td>\n",
       "      <td>January 16, 2016</td>\n",
       "      <td>10</td>\n",
       "      <td>542</td>\n",
       "    </tr>\n",
       "    <tr>\n",
       "      <th>23477</th>\n",
       "      <td>JUSTICE? Yahoo Settles E-mail Privacy Class-ac...</td>\n",
       "      <td>21st Century Wire says It s a familiar theme. ...</td>\n",
       "      <td>Middle-east</td>\n",
       "      <td>January 16, 2016</td>\n",
       "      <td>12</td>\n",
       "      <td>301</td>\n",
       "    </tr>\n",
       "    <tr>\n",
       "      <th>23478</th>\n",
       "      <td>Sunnistan: US and Allied ‘Safe Zone’ Plan to T...</td>\n",
       "      <td>Patrick Henningsen  21st Century WireRemember ...</td>\n",
       "      <td>Middle-east</td>\n",
       "      <td>January 15, 2016</td>\n",
       "      <td>14</td>\n",
       "      <td>4343</td>\n",
       "    </tr>\n",
       "    <tr>\n",
       "      <th>23479</th>\n",
       "      <td>How to Blow $700 Million: Al Jazeera America F...</td>\n",
       "      <td>21st Century Wire says Al Jazeera America will...</td>\n",
       "      <td>Middle-east</td>\n",
       "      <td>January 14, 2016</td>\n",
       "      <td>12</td>\n",
       "      <td>476</td>\n",
       "    </tr>\n",
       "    <tr>\n",
       "      <th>23480</th>\n",
       "      <td>10 U.S. Navy Sailors Held by Iranian Military ...</td>\n",
       "      <td>21st Century Wire says As 21WIRE predicted in ...</td>\n",
       "      <td>Middle-east</td>\n",
       "      <td>January 12, 2016</td>\n",
       "      <td>15</td>\n",
       "      <td>905</td>\n",
       "    </tr>\n",
       "  </tbody>\n",
       "</table>\n",
       "<p>23481 rows × 6 columns</p>\n",
       "</div>"
      ],
      "text/plain": [
       "                                                   title  \\\n",
       "0       Donald Trump Sends Out Embarrassing New Year’...   \n",
       "1       Drunk Bragging Trump Staffer Started Russian ...   \n",
       "2       Sheriff David Clarke Becomes An Internet Joke...   \n",
       "3       Trump Is So Obsessed He Even Has Obama’s Name...   \n",
       "4       Pope Francis Just Called Out Donald Trump Dur...   \n",
       "...                                                  ...   \n",
       "23476  McPain: John McCain Furious That Iran Treated ...   \n",
       "23477  JUSTICE? Yahoo Settles E-mail Privacy Class-ac...   \n",
       "23478  Sunnistan: US and Allied ‘Safe Zone’ Plan to T...   \n",
       "23479  How to Blow $700 Million: Al Jazeera America F...   \n",
       "23480  10 U.S. Navy Sailors Held by Iranian Military ...   \n",
       "\n",
       "                                                    text      subject  \\\n",
       "0      Donald Trump just couldn t wish all Americans ...         News   \n",
       "1      House Intelligence Committee Chairman Devin Nu...         News   \n",
       "2      On Friday, it was revealed that former Milwauk...         News   \n",
       "3      On Christmas day, Donald Trump announced that ...         News   \n",
       "4      Pope Francis used his annual Christmas Day mes...         News   \n",
       "...                                                  ...          ...   \n",
       "23476  21st Century Wire says As 21WIRE reported earl...  Middle-east   \n",
       "23477  21st Century Wire says It s a familiar theme. ...  Middle-east   \n",
       "23478  Patrick Henningsen  21st Century WireRemember ...  Middle-east   \n",
       "23479  21st Century Wire says Al Jazeera America will...  Middle-east   \n",
       "23480  21st Century Wire says As 21WIRE predicted in ...  Middle-east   \n",
       "\n",
       "                    date  num_words_title  num_words_text  \n",
       "0      December 31, 2017               13             516  \n",
       "1      December 31, 2017                9             309  \n",
       "2      December 30, 2017               16             600  \n",
       "3      December 29, 2017               15             475  \n",
       "4      December 25, 2017               12             434  \n",
       "...                  ...              ...             ...  \n",
       "23476   January 16, 2016               10             542  \n",
       "23477   January 16, 2016               12             301  \n",
       "23478   January 15, 2016               14            4343  \n",
       "23479   January 14, 2016               12             476  \n",
       "23480   January 12, 2016               15             905  \n",
       "\n",
       "[23481 rows x 6 columns]"
      ]
     },
     "execution_count": 43,
     "metadata": {},
     "output_type": "execute_result"
    }
   ],
   "source": [
    "fake_news_data"
   ]
  },
  {
   "cell_type": "code",
   "execution_count": 9,
   "id": "993a022a-efdf-48ce-a38d-d951de544415",
   "metadata": {},
   "outputs": [],
   "source": [
    "fake_news_data[\"num_words_title\"]=fake_news_data[\"title\"].map(lambda x: len(x.split(\" \")))\n",
    "fake_news_data[\"num_words_text\"]=fake_news_data[\"text\"].map(lambda x: len(x.split(\" \")))"
   ]
  },
  {
   "cell_type": "code",
   "execution_count": 10,
   "id": "466dc713-ec11-4391-b6ba-d41f51d25460",
   "metadata": {},
   "outputs": [],
   "source": [
    "import matplotlib.pyplot as plt"
   ]
  },
  {
   "cell_type": "code",
   "execution_count": 20,
   "id": "c73177c9-8a89-4fd8-a4a8-2e7445103d55",
   "metadata": {},
   "outputs": [],
   "source": [
    "def plotting_histogram(dataframe,column_name,xlabel,ylabel,title):\n",
    "    dataframe.hist(column=column_name)\n",
    "    plt.xlabel(xlabel)\n",
    "    plt.ylabel(ylabel)\n",
    "    plt.title(title)\n",
    "    plt.show()"
   ]
  },
  {
   "cell_type": "markdown",
   "id": "e5fa7db4-bc32-4470-9d4e-4945b65f9bee",
   "metadata": {},
   "source": [
    "# Plotting number of words in title of true news"
   ]
  },
  {
   "cell_type": "code",
   "execution_count": 22,
   "id": "beec63f5-1231-4aa8-8b4e-16d367216df9",
   "metadata": {},
   "outputs": [
    {
     "data": {
      "image/png": "[encoded data removed]",
      "text/plain": [
       "<Figure size 640x480 with 1 Axes>"
      ]
     },
     "metadata": {},
     "output_type": "display_data"
    }
   ],
   "source": [
    "plotting_histogram(\n",
    "    dataframe=true_news_data,\n",
    "    column_name=\"num_words_title\",\n",
    "    xlabel=\"num_words_title\",\n",
    "    ylabel=\"freq of words\",\n",
    "    title=\"Histogram of word in title of true news\"\n",
    "\n",
    ") "
   ]
  },
  {
   "cell_type": "markdown",
   "id": "55733d15-2c70-48ef-aacb-c949ccb57f8f",
   "metadata": {},
   "source": [
    "# Plotting number of words in title of fake news¶"
   ]
  },
  {
   "cell_type": "code",
   "execution_count": 24,
   "id": "6b8fde1e-f901-4cee-9e50-6655c8b728d3",
   "metadata": {},
   "outputs": [
    {
     "data": {
      "image/png": "[encoded data removed]",
      "text/plain": [
       "<Figure size 640x480 with 1 Axes>"
      ]
     },
     "metadata": {},
     "output_type": "display_data"
    }
   ],
   "source": [
    "plotting_histogram(\n",
    "    dataframe=fake_news_data,\n",
    "    column_name=\"num_words_title\",\n",
    "    xlabel=\"num_words_title\",\n",
    "    ylabel=\"freq of words\",\n",
    "    title=\"Histogram of word in title of fake news\"\n",
    "\n",
    ")"
   ]
  },
  {
   "cell_type": "markdown",
   "id": "be2c2e9b-410f-4ee5-9361-be3e5700aefe",
   "metadata": {},
   "source": [
    "# Plotting number of words in text of true news"
   ]
  },
  {
   "cell_type": "code",
   "execution_count": 25,
   "id": "dfcfeae3-dce2-4d3a-9634-03bc32b49743",
   "metadata": {},
   "outputs": [
    {
     "data": {
      "image/png": "[encoded data removed]",
      "text/plain": [
       "<Figure size 640x480 with 1 Axes>"
      ]
     },
     "metadata": {},
     "output_type": "display_data"
    }
   ],
   "source": [
    "plotting_histogram(\n",
    "    dataframe=true_news_data,\n",
    "    column_name=\"num_words_text\",\n",
    "    xlabel=\"num_words_text\",\n",
    "    ylabel=\"freq of words\",\n",
    "    title=\"Histogram of word in text of true news\"\n",
    "\n",
    ")"
   ]
  },
  {
   "cell_type": "markdown",
   "id": "69943e06-75b4-484b-8f8b-1e738c33dc55",
   "metadata": {},
   "source": [
    "# Plotting number of words in text of fake news"
   ]
  },
  {
   "cell_type": "code",
   "execution_count": 26,
   "id": "0e4f22ba-57ca-4901-8ef7-66801de3259c",
   "metadata": {},
   "outputs": [
    {
     "data": {
      "image/png": "[encoded data removed]",
      "text/plain": [
       "<Figure size 640x480 with 1 Axes>"
      ]
     },
     "metadata": {},
     "output_type": "display_data"
    }
   ],
   "source": [
    "plotting_histogram(\n",
    "    dataframe=fake_news_data,\n",
    "    column_name=\"num_words_text\",\n",
    "    xlabel=\"num_words_text\",\n",
    "    ylabel=\"freq of words\",\n",
    "    title=\"Histogram of word in text of fake news\"\n",
    "\n",
    ")"
   ]
  },
  {
   "cell_type": "code",
   "execution_count": 27,
   "id": "7018876e-4120-421a-9d73-5a017126ea0a",
   "metadata": {},
   "outputs": [],
   "source": [
    "def get_statistics_of_column(dataframe,column_name,title):\n",
    "    print(f\"Title:{title}\")\n",
    "    print(f\"Mean:{dataframe[column_name].mean()}\")\n",
    "    print(f\"Median:{dataframe[column_name].median()}\")\n",
    "    print(f\"Mode:{dataframe[column_name].mode()}\")"
   ]
  },
  {
   "cell_type": "markdown",
   "id": "20c8f93a-87f2-4193-947f-d3a0a8ae746b",
   "metadata": {},
   "source": [
    "# Statistics about num_of_words in title of True news"
   ]
  },
  {
   "cell_type": "code",
   "execution_count": 29,
   "id": "3d24feaa-7061-473d-91d5-5ea0826a742c",
   "metadata": {},
   "outputs": [
    {
     "name": "stdout",
     "output_type": "stream",
     "text": [
      "Title:Statistics about num_of_words in title of True news\n",
      "Mean:9.958864453471541\n",
      "Median:10.0\n",
      "Mode:0    10\n",
      "Name: num_words_title, dtype: int64\n"
     ]
    }
   ],
   "source": [
    "get_statistics_of_column(dataframe=true_news_data,\n",
    "                         column_name=\"num_words_title\",\n",
    "                         title=\"Statistics about num_of_words in title of True news\")"
   ]
  },
  {
   "cell_type": "markdown",
   "id": "df6533f8-5b5f-4745-963c-6aa923f22ed4",
   "metadata": {},
   "source": [
    "# Statistics about num_of_words in title of Fake news"
   ]
  },
  {
   "cell_type": "code",
   "execution_count": 30,
   "id": "10073aef-b120-4da9-938c-24c5fedf662d",
   "metadata": {},
   "outputs": [
    {
     "name": "stdout",
     "output_type": "stream",
     "text": [
      "Title:Statistics about num_of_words in title of Fake news\n",
      "Mean:15.11843618244538\n",
      "Median:15.0\n",
      "Mode:0    14\n",
      "Name: num_words_title, dtype: int64\n"
     ]
    }
   ],
   "source": [
    "get_statistics_of_column(dataframe=fake_news_data,\n",
    "                         column_name=\"num_words_title\",\n",
    "                         title=\"Statistics about num_of_words in title of Fake news\")"
   ]
  },
  {
   "cell_type": "markdown",
   "id": "88ec6ac0-16b2-4ef4-b67a-365732fdda49",
   "metadata": {},
   "source": [
    "# Statistics about num_of_words in text of True news"
   ]
  },
  {
   "cell_type": "code",
   "execution_count": 32,
   "id": "ba4d0d44-1c1b-4aab-abe4-8b3741cbc1a9",
   "metadata": {},
   "outputs": [
    {
     "name": "stdout",
     "output_type": "stream",
     "text": [
      "Title:Statistics about num_of_words in text of True news\n",
      "Mean:394.4065928934958\n",
      "Median:367.0\n",
      "Mode:0    78\n",
      "Name: num_words_text, dtype: int64\n"
     ]
    }
   ],
   "source": [
    "get_statistics_of_column(dataframe=true_news_data,\n",
    "                         column_name=\"num_words_text\",\n",
    "                         title=\"Statistics about num_of_words in text of True news\")"
   ]
  },
  {
   "cell_type": "markdown",
   "id": "c6a70854-576c-4fd6-93fd-8dc1a6f1641a",
   "metadata": {},
   "source": [
    "# Statistics about num_of_words in text of Fake news"
   ]
  },
  {
   "cell_type": "code",
   "execution_count": 34,
   "id": "465cd78a-42b2-4198-91bf-d4b3da381e55",
   "metadata": {},
   "outputs": [
    {
     "name": "stdout",
     "output_type": "stream",
     "text": [
      "Title:Statistics about num_of_words in text of Fake news\n",
      "Mean:435.23721306588305\n",
      "Median:373.0\n",
      "Mode:0    2\n",
      "Name: num_words_text, dtype: int64\n"
     ]
    }
   ],
   "source": [
    "get_statistics_of_column(dataframe=fake_news_data,\n",
    "                         column_name=\"num_words_text\",\n",
    "                         title=\"Statistics about num_of_words in text of Fake news\")"
   ]
  },
  {
   "cell_type": "markdown",
   "id": "8b958ad0-34b7-47e1-ab4f-879e1fe0d110",
   "metadata": {},
   "source": [
    "# Samples of title of True News"
   ]
  },
  {
   "cell_type": "code",
   "execution_count": 38,
   "id": "3b9f99f4-d547-4306-811c-93a97a02f28a",
   "metadata": {},
   "outputs": [
    {
     "data": {
      "text/plain": [
       "['As U.S. budget fight looms, Republicans flip their fiscal script',\n",
       " 'U.S. military to accept transgender recruits on Monday: Pentagon',\n",
       " \"Senior U.S. Republican senator: 'Let Mr. Mueller do his job'\",\n",
       " 'FBI Russia probe helped by Australian diplomat tip-off: NYT',\n",
       " \"Trump wants Postal Service to charge 'much more' for Amazon shipments\"]"
      ]
     },
     "execution_count": 38,
     "metadata": {},
     "output_type": "execute_result"
    }
   ],
   "source": [
    "list(true_news_data['title'][:5])"
   ]
  },
  {
   "cell_type": "markdown",
   "id": "522b12ef-967c-4c84-b04d-bf9e590c7e99",
   "metadata": {},
   "source": [
    "# Samples of title of Fake News"
   ]
  },
  {
   "cell_type": "code",
   "execution_count": 39,
   "id": "56b16471-f310-492d-ae63-013a7fd57e91",
   "metadata": {},
   "outputs": [
    {
     "data": {
      "text/plain": [
       "[' Donald Trump Sends Out Embarrassing New Year’s Eve Message; This is Disturbing',\n",
       " ' Drunk Bragging Trump Staffer Started Russian Collusion Investigation',\n",
       " ' Sheriff David Clarke Becomes An Internet Joke For Threatening To Poke People ‘In The Eye’',\n",
       " ' Trump Is So Obsessed He Even Has Obama’s Name Coded Into His Website (IMAGES)',\n",
       " ' Pope Francis Just Called Out Donald Trump During His Christmas Speech']"
      ]
     },
     "execution_count": 39,
     "metadata": {},
     "output_type": "execute_result"
    }
   ],
   "source": [
    "list(fake_news_data['title'][:5])"
   ]
  },
  {
   "cell_type": "markdown",
   "id": "8693d1a7-40b3-4579-b85e-b606b71fad97",
   "metadata": {},
   "source": [
    "# Samples of text of True News"
   ]
  },
  {
   "cell_type": "code",
   "execution_count": 41,
   "id": "0624a63a-fc71-4614-b805-767673687023",
   "metadata": {},
   "outputs": [
    {
     "data": {
      "text/plain": [
       "['WASHINGTON (Reuters) - The head of a conservative Republican faction in the U.S. Congress, who voted this month for a huge expansion of the national debt to pay for tax cuts, called himself a “fiscal conservative” on Sunday and urged budget restraint in 2018. In keeping with a sharp pivot under way among Republicans, U.S. Representative Mark Meadows, speaking on CBS’ “Face the Nation,” drew a hard line on federal spending, which lawmakers are bracing to do battle over in January. When they return from the holidays on Wednesday, lawmakers will begin trying to pass a federal budget in a fight likely to be linked to other issues, such as immigration policy, even as the November congressional election campaigns approach in which Republicans will seek to keep control of Congress. President Donald Trump and his Republicans want a big budget increase in military spending, while Democrats also want proportional increases for non-defense “discretionary” spending on programs that support education, scientific research, infrastructure, public health and environmental protection. “The (Trump) administration has already been willing to say: ‘We’re going to increase non-defense discretionary spending ... by about 7 percent,’” Meadows, chairman of the small but influential House Freedom Caucus, said on the program. “Now, Democrats are saying that’s not enough, we need to give the government a pay raise of 10 to 11 percent. For a fiscal conservative, I don’t see where the rationale is. ... Eventually you run out of other people’s money,” he said. Meadows was among Republicans who voted in late December for their party’s debt-financed tax overhaul, which is expected to balloon the federal budget deficit and add about $1.5 trillion over 10 years to the $20 trillion national debt. “It’s interesting to hear Mark talk about fiscal responsibility,” Democratic U.S. Representative Joseph Crowley said on CBS. Crowley said the Republican tax bill would require the  United States to borrow $1.5 trillion, to be paid off by future generations, to finance tax cuts for corporations and the rich. “This is one of the least ... fiscally responsible bills we’ve ever seen passed in the history of the House of Representatives. I think we’re going to be paying for this for many, many years to come,” Crowley said. Republicans insist the tax package, the biggest U.S. tax overhaul in more than 30 years,  will boost the economy and job growth. House Speaker Paul Ryan, who also supported the tax bill, recently went further than Meadows, making clear in a radio interview that welfare or “entitlement reform,” as the party often calls it, would be a top Republican priority in 2018. In Republican parlance, “entitlement” programs mean food stamps, housing assistance, Medicare and Medicaid health insurance for the elderly, poor and disabled, as well as other programs created by Washington to assist the needy. Democrats seized on Ryan’s early December remarks, saying they showed Republicans would try to pay for their tax overhaul by seeking spending cuts for social programs. But the goals of House Republicans may have to take a back seat to the Senate, where the votes of some Democrats will be needed to approve a budget and prevent a government shutdown. Democrats will use their leverage in the Senate, which Republicans narrowly control, to defend both discretionary non-defense programs and social spending, while tackling the issue of the “Dreamers,” people brought illegally to the country as children. Trump in September put a March 2018 expiration date on the Deferred Action for Childhood Arrivals, or DACA, program, which protects the young immigrants from deportation and provides them with work permits. The president has said in recent Twitter messages he wants funding for his proposed Mexican border wall and other immigration law changes in exchange for agreeing to help the Dreamers. Representative Debbie Dingell told CBS she did not favor linking that issue to other policy objectives, such as wall funding. “We need to do DACA clean,” she said.  On Wednesday, Trump aides will meet with congressional leaders to discuss those issues. That will be followed by a weekend of strategy sessions for Trump and Republican leaders on Jan. 6 and 7, the White House said. Trump was also scheduled to meet on Sunday with Florida Republican Governor Rick Scott, who wants more emergency aid. The House has passed an $81 billion aid package after hurricanes in Florida, Texas and Puerto Rico, and wildfires in California. The package far exceeded the $44 billion requested by the Trump administration. The Senate has not yet voted on the aid. ']"
      ]
     },
     "execution_count": 41,
     "metadata": {},
     "output_type": "execute_result"
    }
   ],
   "source": [
    "list(true_news_data[\"text\"][:1])"
   ]
  },
  {
   "cell_type": "code",
   "execution_count": 47,
   "id": "62d2b41b-d618-4832-ac3c-c0ff06f04c7a",
   "metadata": {},
   "outputs": [
    {
     "data": {
      "text/plain": [
       "'WASHINGTON (Reuters) - Transgender people will be allowed for the first time to enlist in the U.S. military starting on Monday as ordered by federal courts, the Pentagon said on Friday, after President Donald Trump’s administration decided not to appeal rulings that blocked his transgender ban. Two federal appeals courts, one in Washington and one in Virginia, last week rejected the administration’s request to put on hold orders by lower court judges requiring the military to begin accepting transgender recruits on Jan. 1. A Justice Department official said the administration will not challenge those rulings. “The Department of Defense has announced that it will be releasing an independent study of these issues in the coming weeks. So rather than litigate this interim appeal before that occurs, the administration has decided to wait for DOD’s study and will continue to defend the president’s lawful authority in District Court in the meantime,” the official said, speaking on condition of anonymity. In September, the Pentagon said it had created a panel of senior officials to study how to implement a directive by Trump to prohibit transgender individuals from serving. The Defense Department has until Feb. 21 to submit a plan to Trump. Lawyers representing currently-serving transgender service members and aspiring recruits said they had expected the administration to appeal the rulings to the conservative-majority Supreme Court, but were hoping that would not happen. Pentagon spokeswoman Heather Babb said in a statement: “As mandated by court order, the Department of Defense is prepared to begin accessing transgender applicants for military service Jan. 1. All applicants must meet all accession standards.” Jennifer Levi, a lawyer with gay, lesbian and transgender advocacy group GLAD, called the decision not to appeal “great news.” “I’m hoping it means the government has come to see that there is no way to justify a ban and that it’s not good for the military or our country,” Levi said. Both GLAD and the American Civil Liberties Union represent plaintiffs in the lawsuits filed against the administration. In a move that appealed to his hard-line conservative supporters, Trump announced in July that he would prohibit transgender people from serving in the military, reversing Democratic President Barack Obama’s policy of accepting them. Trump said on Twitter at the time that the military “cannot be burdened with the tremendous medical costs and disruption that transgender in the military would entail.” Four federal judges - in Baltimore, Washington, D.C., Seattle and Riverside, California - have issued rulings blocking Trump’s ban while legal challenges to the Republican president’s policy proceed. The judges said the ban would likely violate the right under the U.S. Constitution to equal protection under the law. The Pentagon on Dec. 8 issued guidelines to recruitment personnel in order to enlist transgender applicants by Jan. 1. The memo outlined medical requirements and specified how the applicants’ sex would be identified and even which undergarments they would wear. The Trump administration previously said in legal papers that the armed forces were not prepared to train thousands of personnel on the medical standards needed to process transgender applicants and might have to accept “some individuals who are not medically fit for service.” The Obama administration had set a deadline of July 1, 2017, to begin accepting transgender recruits. But Trump’s defense secretary, James Mattis, postponed that date to Jan. 1, 2018, which the president’s ban then put off indefinitely. Trump has taken other steps aimed at rolling back transgender rights. In October, his administration said a federal law banning gender-based workplace discrimination does not protect transgender employees, reversing another Obama-era position. In February, Trump rescinded guidance issued by the Obama administration saying that public schools should allow transgender students to use the restroom that corresponds to their gender identity. '"
      ]
     },
     "execution_count": 47,
     "metadata": {},
     "output_type": "execute_result"
    }
   ],
   "source": [
    "true_news_data[\"text\"][1]"
   ]
  },
  {
   "cell_type": "code",
   "execution_count": 49,
   "id": "57fe5544-3de6-41cf-8386-0f51af713f40",
   "metadata": {},
   "outputs": [
    {
     "data": {
      "text/plain": [
       "'WASHINGTON (Reuters) - The special counsel investigation of links between Russia and President Trump’s 2016 election campaign should continue without interference in 2018, despite calls from some Trump administration allies and Republican lawmakers to shut it down, a prominent Republican senator said on Sunday. Lindsey Graham, who serves on the Senate armed forces and judiciary committees, said Department of Justice Special Counsel Robert Mueller needs to carry on with his Russia investigation without political interference. “This investigation will go forward. It will be an investigation conducted without political influence,” Graham said on CBS’s Face the Nation news program. “And we all need to let Mr. Mueller do his job. I think he’s the right guy at the right time.”  The question of how Russia may have interfered in the election, and how Trump’s campaign may have had links with or co-ordinated any such effort, has loomed over the White House since Trump took office in January. It shows no sign of receding as Trump prepares for his second year in power, despite intensified rhetoric from some Trump allies in recent weeks accusing Mueller’s team of bias against the Republican president. Trump himself seemed to undercut his supporters in an interview last week with the New York Times in which he said he expected Mueller was “going to be fair.”    Russia’s role in the election and the question of possible links to the Trump campaign are the focus of multiple inquiries in Washington. Three committees of the Senate and the House of Representatives are investigating, as well as Mueller, whose team in May took over an earlier probe launched by the U.S. Federal Bureau of Investigation (FBI). Several members of the Trump campaign and administration have been convicted or indicted in the investigation.  Trump and his allies deny any collusion with Russia during the campaign, and the Kremlin has denied meddling in the election. Graham said he still wants an examination of the FBI’s use of a dossier on links between Trump and Russia that was compiled by a former British spy, Christopher Steele, which prompted Trump allies and some Republicans to question Mueller’s inquiry.   On Saturday, the New York Times reported that it was not that dossier that triggered an early FBI probe, but a tip from former Trump campaign foreign policy adviser George Papadopoulos to an Australian diplomat that Russia had damaging information about former Trump rival Hillary Clinton.  “I want somebody to look at the way the Department of Justice used this dossier. It bothers me greatly the way they used it, and I want somebody to look at it,” Graham said. But he said the Russia investigation must continue. “As a matter of fact, it would hurt us if we ignored it,” he said. '"
      ]
     },
     "execution_count": 49,
     "metadata": {},
     "output_type": "execute_result"
    }
   ],
   "source": [
    "true_news_data[\"text\"][2]"
   ]
  },
  {
   "cell_type": "code",
   "execution_count": 51,
   "id": "6bcc5dc5-7189-4d51-94d1-b83095ad48cc",
   "metadata": {},
   "outputs": [
    {
     "data": {
      "text/plain": [
       "'WASHINGTON (Reuters) - The White House expects the U.S. Congress to soon waive a rule known as “Paygo” that could trigger deep spending cuts in areas such as Medicare and agriculture in order to cover the costs of the recently passed tax overhaul, a White House official said on Wednesday.  Congress will likely waive the rule, which requires the Senate to find offsets for the large tax cuts in the bill, through the spending resolution it must soon pass in order to keep the government open, the official added. The official said the Internal Revenue Service, the country’s tax agency, can immediately begin implementing changes called for in the $1.5 trillion overhaul of the U.S. tax code and does not need to wait for President Donald Trump to sign the bill into law. '"
      ]
     },
     "execution_count": 51,
     "metadata": {},
     "output_type": "execute_result"
    }
   ],
   "source": [
    "true_news_data[\"text\"][69]"
   ]
  },
  {
   "cell_type": "code",
   "execution_count": 52,
   "id": "636f084f-f55b-47ad-bc84-1bec6ff2e6d1",
   "metadata": {},
   "outputs": [
    {
     "data": {
      "text/plain": [
       "'WASHINGTON (Reuters) - U.S. President Donald Trump on Monday said he plans to nominate Liberty University School of Law professor Caren Harp to oversee the Justice Department’s Office of Juvenile Justice and Delinquency Prevention. If ultimately confirmed by the U.S. Senate, Harp would oversee the Justice Department office that trains and works with state and local communities to develop effective juvenile justice programs and prevent delinquency. Harp previously was director of the National Juvenile Justice Prosecution Center at the American Prosecutors Research Institute.  According to Harp’s LinkedIn page, she is in her sixth year as a professor at Liberty, which is located in Lynchburg, Virginia. The law school’s website says its program is “taught from a Christian worldview” and says it offers a “uniquely tailored legal program taught with sound biblical principles.” Harp, who holds a law degree from the University of Arkansas-Fayetteville, has also worked as both a prosecutor and a public defender, including as chief of the Sex Crimes Prosecution Unit in New York City, Family Court Division, and as a trial attorney for the Arkansas Public Defender Commission.  In an article published in May, Harp raises questions about the role of adolescent neuroscience in the courtroom and writes that the best way to tackle juvenile justice is by teaching youth to accept responsibility and involve them in community-based diversion programs to prevent them from re-offending.      “Misplaced reliance on nascent neuroscience and neuroimaging evidence to remove from youth and young adults the consequences of their criminal behavior invites pushback from those who favor a retributive system, and it may create some unintended and unwanted consequences for youth and young adults,” she writes. It is unclear when the Senate may consider Harp’s nomination. There are a handful of key nominees who have been waiting months now for their confirmation votes. Nominees to head the Criminal, Civil and National Security divisions, for instance, are still pending. '"
      ]
     },
     "execution_count": 52,
     "metadata": {},
     "output_type": "execute_result"
    }
   ],
   "source": [
    "true_news_data[\"text\"][96]"
   ]
  },
  {
   "cell_type": "markdown",
   "id": "ee644f5c-e371-42a0-8179-c647b1302d03",
   "metadata": {},
   "source": [
    "# Sample Text of Fake News"
   ]
  },
  {
   "cell_type": "code",
   "execution_count": 42,
   "id": "dd96b97e-0aa5-44ed-9614-e32da8ebbb4c",
   "metadata": {},
   "outputs": [
    {
     "data": {
      "text/plain": [
       "['Donald Trump just couldn t wish all Americans a Happy New Year and leave it at that. Instead, he had to give a shout out to his enemies, haters and  the very dishonest fake news media.  The former reality show star had just one job to do and he couldn t do it. As our Country rapidly grows stronger and smarter, I want to wish all of my friends, supporters, enemies, haters, and even the very dishonest Fake News Media, a Happy and Healthy New Year,  President Angry Pants tweeted.  2018 will be a great year for America! As our Country rapidly grows stronger and smarter, I want to wish all of my friends, supporters, enemies, haters, and even the very dishonest Fake News Media, a Happy and Healthy New Year. 2018 will be a great year for America!  Donald J. Trump (@realDonaldTrump) December 31, 2017Trump s tweet went down about as welll as you d expect.What kind of president sends a New Year s greeting like this despicable, petty, infantile gibberish? Only Trump! His lack of decency won t even allow him to rise above the gutter long enough to wish the American citizens a happy new year!  Bishop Talbert Swan (@TalbertSwan) December 31, 2017no one likes you  Calvin (@calvinstowell) December 31, 2017Your impeachment would make 2018 a great year for America, but I ll also accept regaining control of Congress.  Miranda Yaver (@mirandayaver) December 31, 2017Do you hear yourself talk? When you have to include that many people that hate you you have to wonder? Why do the they all hate me?  Alan Sandoval (@AlanSandoval13) December 31, 2017Who uses the word Haters in a New Years wish??  Marlene (@marlene399) December 31, 2017You can t just say happy new year?  Koren pollitt (@Korencarpenter) December 31, 2017Here s Trump s New Year s Eve tweet from 2016.Happy New Year to all, including to my many enemies and those who have fought me and lost so badly they just don t know what to do. Love!  Donald J. Trump (@realDonaldTrump) December 31, 2016This is nothing new for Trump. He s been doing this for years.Trump has directed messages to his  enemies  and  haters  for New Year s, Easter, Thanksgiving, and the anniversary of 9/11. pic.twitter.com/4FPAe2KypA  Daniel Dale (@ddale8) December 31, 2017Trump s holiday tweets are clearly not presidential.How long did he work at Hallmark before becoming President?  Steven Goodine (@SGoodine) December 31, 2017He s always been like this . . . the only difference is that in the last few years, his filter has been breaking down.  Roy Schulze (@thbthttt) December 31, 2017Who, apart from a teenager uses the term haters?  Wendy (@WendyWhistles) December 31, 2017he s a fucking 5 year old  Who Knows (@rainyday80) December 31, 2017So, to all the people who voted for this a hole thinking he would change once he got into power, you were wrong! 70-year-old men don t change and now he s a year older.Photo by Andrew Burton/Getty Images.']"
      ]
     },
     "execution_count": 42,
     "metadata": {},
     "output_type": "execute_result"
    }
   ],
   "source": [
    "list(fake_news_data[\"text\"][:1])"
   ]
  },
  {
   "cell_type": "code",
   "execution_count": 45,
   "id": "686e0b81-55fa-43a9-9f74-42ef6e667360",
   "metadata": {},
   "outputs": [
    {
     "data": {
      "text/plain": [
       "'House Intelligence Committee Chairman Devin Nunes is going to have a bad day. He s been under the assumption, like many of us, that the Christopher Steele-dossier was what prompted the Russia investigation so he s been lashing out at the Department of Justice and the FBI in order to protect Trump. As it happens, the dossier is not what started the investigation, according to documents obtained by the New York Times.Former Trump campaign adviser George Papadopoulos was drunk in a wine bar when he revealed knowledge of Russian opposition research on Hillary Clinton.On top of that, Papadopoulos wasn t just a covfefe boy for Trump, as his administration has alleged. He had a much larger role, but none so damning as being a drunken fool in a wine bar. Coffee boys  don t help to arrange a New York meeting between Trump and President Abdel Fattah el-Sisi of Egypt two months before the election. It was known before that the former aide set up meetings with world leaders for Trump, but team Trump ran with him being merely a coffee boy.In May 2016, Papadopoulos revealed to Australian diplomat Alexander Downer that Russian officials were shopping around possible dirt on then-Democratic presidential nominee Hillary Clinton. Exactly how much Mr. Papadopoulos said that night at the Kensington Wine Rooms with the Australian, Alexander Downer, is unclear,  the report states.  But two months later, when leaked Democratic emails began appearing online, Australian officials passed the information about Mr. Papadopoulos to their American counterparts, according to four current and former American and foreign officials with direct knowledge of the Australians  role. Papadopoulos pleaded guilty to lying to the F.B.I. and is now a cooperating witness with Special Counsel Robert Mueller s team.This isn t a presidency. It s a badly scripted reality TV show.Photo by Win McNamee/Getty Images.'"
      ]
     },
     "execution_count": 45,
     "metadata": {},
     "output_type": "execute_result"
    }
   ],
   "source": [
    "fake_news_data[\"text\"][1]"
   ]
  },
  {
   "cell_type": "code",
   "execution_count": 48,
   "id": "5ffb473f-a545-4b95-8bfa-1fc053a20a19",
   "metadata": {},
   "outputs": [
    {
     "data": {
      "text/plain": [
       "'On Friday, it was revealed that former Milwaukee Sheriff David Clarke, who was being considered for Homeland Security Secretary in Donald Trump s administration, has an email scandal of his own.In January, there was a brief run-in on a plane between Clarke and fellow passenger Dan Black, who he later had detained by the police for no reason whatsoever, except that maybe his feelings were hurt. Clarke messaged the police to stop Black after he deplaned, and now, a search warrant has been executed by the FBI to see the exchanges.Clarke is calling it fake news even though copies of the search warrant are on the Internet. I am UNINTIMIDATED by lib media attempts to smear and discredit me with their FAKE NEWS reports designed to silence me,  the former sheriff tweeted.  I will continue to poke them in the eye with a sharp stick and bitch slap these scum bags til they get it. I have been attacked by better people than them #MAGA I am UNINTIMIDATED by lib media attempts to smear and discredit me with their FAKE NEWS reports designed to silence me. I will continue to poke them in the eye with a sharp stick and bitch slap these scum bags til they get it. I have been attacked by better people than them #MAGA pic.twitter.com/XtZW5PdU2b  David A. Clarke, Jr. (@SheriffClarke) December 30, 2017He didn t stop there.BREAKING NEWS! When LYING LIB MEDIA makes up FAKE NEWS to smear me, the ANTIDOTE is go right at them. Punch them in the nose & MAKE THEM TASTE THEIR OWN BLOOD. Nothing gets a bully like LYING LIB MEDIA S attention better than to give them a taste of their own blood #neverbackdown pic.twitter.com/T2NY2psHCR  David A. Clarke, Jr. (@SheriffClarke) December 30, 2017The internet called him out.This is your local newspaper and that search warrant isn t fake, and just because the chose not to file charges at the time doesn t mean they won t! Especially if you continue to lie. Months after decision not to charge Clarke, email search warrant filed https://t.co/zcbyc4Wp5b  KeithLeBlanc (@KeithLeBlanc63) December 30, 2017I just hope the rest of the Village People aren t implicated.  Kirk Ketchum (@kirkketchum) December 30, 2017Slaw, baked potatoes, or French fries? pic.twitter.com/fWfXsZupxy  ALT- Immigration   (@ALT_uscis) December 30, 2017pic.twitter.com/ymsOBLjfxU  Pendulum Swinger (@PendulumSwngr) December 30, 2017you called your police friends to stand up for you when someone made fun of your hat  Chris Jackson (@ChrisCJackson) December 30, 2017Is it me, with this masterful pshop of your hat, which I seem to never tire of. I think it s the steely resolve in your one visible eye pic.twitter.com/dWr5k8ZEZV  Chris Mohney (@chrismohney) December 30, 2017Are you indicating with your fingers how many people died in your jail? I think you re a few fingers short, dipshit  Ike Barinholtz (@ikebarinholtz) December 30, 2017ROFL. Internet tough guy with fake flair. pic.twitter.com/ulCFddhkdy  KellMeCrazy (@Kel_MoonFace) December 30, 2017You re so edgy, buddy.  Mrs. SMH (@MRSSMH2) December 30, 2017Is his break over at Applebees?  Aaron (@feltrrr2) December 30, 2017Are you trying to earn your  still relevant  badge?  CircusRebel (@CircusDrew) December 30, 2017make sure to hydrate, drink lots of water. It s rumored that prisoners can be denied water by prison officials.  Robert Klinc (@RobertKlinc1) December 30, 2017Terrill Thomas, the 38-year-old black man who died of thirst in Clarke s Milwaukee County Jail cell this April, was a victim of homicide. We just thought we should point that out. It can t be repeated enough.Photo by Spencer Platt/Getty Images.'"
      ]
     },
     "execution_count": 48,
     "metadata": {},
     "output_type": "execute_result"
    }
   ],
   "source": [
    "fake_news_data[\"text\"][2]"
   ]
  },
  {
   "cell_type": "code",
   "execution_count": 50,
   "id": "a0cff490-02db-4df5-8cc4-cc8c911f0348",
   "metadata": {},
   "outputs": [
    {
     "data": {
      "text/plain": [
       "\"Donald Trump isn t polling well in the readers  choice poll, getting his ass kicked in Time s Person Of The Year by Taylor Swift, the #MeToo movement, and the mayor of San Juan, the latter of which he has repeatedly targeted on Twitter. But that s different from Time Magazine s person of the year which is chosen by the editors. Trump did win last year, but it s one year after the election and he s the least popular president in the history of polling. So, President Liar Pants lied on Twitter about why he s not receiving the award. Time Magazine called to say that I was PROBABLY going to be named  Man (Person) of the Year,  like last year, but I would have to agree to an interview and a major photo shoot,  he wrote.  I said probably is no good and took a pass. Thanks anyway! Time Magazine called to say that I was PROBABLY going to be named  Man (Person) of the Year,  like last year, but I would have to agree to an interview and a major photo shoot. I said probably is no good and took a pass. Thanks anyway!  Donald J. Trump (@realDonaldTrump) November 24, 2017No one is buying that excuse especially Time magazine. The President is incorrect about how we choose Person of the Year,  the magazine wrote on its official Twitter account.  TIME does not comment on our choice until publication, which is December 6. The President is incorrect about how we choose Person of the Year. TIME does not comment on our choice until publication, which is December 6.  TIME (@TIME) November 25, 2017Time s chief content officer, Alan Murray, also fired back at Trump from his own personal Twitter account. Amazing,  Mr. Murray wrote.  Not a speck of truth here Trump tweets he  took a pass  at being named TIME s person of the year. Amazing. Not a speck of truth here Trump tweets he 'took a pass' at being named TIME's person of the year https://t.co/D6SJgyTpcY  Alan Murray (@alansmurray) November 25, 2017In the following tweet, Murray called Trump s claim total bullshit.Total BS https://t.co/jrUPRbLCGQ  Alan Murray (@alansmurray) November 25, 2017In 2016, Trump called winning the 2016 award from the magazine a  tremendous honor. The former reality show star turned president was busted in June for hanging a photoshopped Time cover featuring himself   on the walls of at least four of his seventeen golf courses. The fake headlines touted his success. Trump has been grifting the U.S. since then with wild-eyed claims that only his cult-like supporters would believe.Photo by Alex Wong/Getty Images.\""
      ]
     },
     "execution_count": 50,
     "metadata": {},
     "output_type": "execute_result"
    }
   ],
   "source": [
    "fake_news_data[\"text\"][69]"
   ]
  },
  {
   "cell_type": "code",
   "execution_count": 53,
   "id": "fe4868bb-11b9-4fb2-abe4-4cafbe2d82e4",
   "metadata": {},
   "outputs": [
    {
     "data": {
      "text/plain": [
       "'Donald Trump is doing a horrendous job of raising his historically low approval rating in America, and it looks like he s not doing any better in trying to gain the approval and trust of the rest of the world.Thanks to a new survey by the Pew Research Center, we can now rest assured that the entire world hates Trump just as much as most Americans do. The Pew Research Center surveyed 37 countries, discovering that 74% of respondents stated that when it comes to international affairs, they have ZERO confidence that Trump will respond appropriately or do the right thing.This will be damaging enough to Trump s ego, but it gets even worse for him! Pew Research Center also reported that a similar survey was conducted on former President Barack Obama when he was POTUS, and it produced some VERY different results. That survey revealed that 64% of respondents had complete faith in Obama on international affairs.While the fact that most of the world hates Trump is kind of hysterical, what it has done to America s reputation is quite depressing. The study revealed that America s reputation has declined dramatically since the days of Obama. When respondents were asked how they felt about the U.S., only 49% were favorable since Trump got into the White House, which was a 15% decline from Obama s time   and it s only been a few months. The authors of the survey said: In the eyes of most people surveyed around the world, the White House s new occupant is arrogant, intolerant and even dangerous. Among the positive characteristics tested, his highest rating is for being a strong leader. Fewer believe he is charismatic, well-qualified or cares about ordinary people. Ironically, the only two countries who reported to have more confidence in Trump than Obama were Israel and, you guessed it Russia. In fact, Russia increased 42% thanks to Trump s presidency, which should certainly raise some suspicion.You can check out the findings below:Featured image via Pool / Getty Images'"
      ]
     },
     "execution_count": 53,
     "metadata": {},
     "output_type": "execute_result"
    }
   ],
   "source": [
    "fake_news_data[\"text\"][1000]"
   ]
  },
  {
   "cell_type": "markdown",
   "id": "2b1b6e7a-8082-4b65-a047-cdfb23e66446",
   "metadata": {},
   "source": [
    "# Prominent differences between the True News and Fake News Text:\n",
    "\n",
    " * ## Punctuation Errors:\n",
    "       We can encounter various punctuation errors in fake news such as:\n",
    "         - \"don't\" appear as \"don t\"\n",
    "         - \"he's\" appear as \"he s\"\n",
    "         - comma and other puntuation marks are also not used at proper place.\n",
    "   \n",
    " * ## Spacing between words:\n",
    "       Somtime there is no space between two words in a text and there are some instances where there are more than 1 spaces.\n",
    "   \n",
    " * ## Presence of soical media handle in text:\n",
    "       It can be seen that soical media handles like \"(@realDonaldTrump)\" can be seen in fake news but such articles are not present in true news.\n",
    "\n",
    " * ## Presence of urls in text:\n",
    "       Harmful Url's such has \"https://t.co/zcbyc4Wp5b\" are present in fake news text.\n",
    "   \n",
    " * ## Presence of tags at end of text:\n",
    "       Tags such as \"Photo by Spencer Platt/Getty Images.\",\"Photo by Win McNamee/Getty Images.\" can be seen at end of fake news.\n",
    "   \n",
    " * ## Presence of tags at start of text:\n",
    "       Tags such as \"WASHINGTON (Reuters)\" of authenticate news sources are present at start of text which are absent in fake news.\n",
    "   \n",
    " * ## Repetiton of some specific type of words across different text articles:\n",
    "       From the analysis of fake news text it was found that specific kind of words of type \"2017{word}\" was found across various fake news articles.\n",
    "       Example: \"2017he\",\"2017ROFL\",\"2017You\"\n",
    "   \n",
    " * ## Presence of url's of certain twitter posts:\n",
    "       Url's of twitter post were seen to be found in the fake news articles.\n",
    "       Example : \"pic.twitter.com/XtZW5PdU2b\",\"pic.twitter.com/fWfXsZupxy\"\n",
    "   \n",
    " * ## Presence of Hashtags:\n",
    "       Hashtags were seen in fake news articles.\n",
    "       Example: \"#MeToo\"\n",
    "   \n",
    " * ## Absence of space after sentence completion:\n",
    "       In some of the fake news it was seen that space was not given after the sentence completion while it was rarely seen in true news.\n",
    "       Example: \"international affairs.While the fact that most \"\n",
    "   \n",
    " * ## Capitalizing less significant words in article:\n",
    "       Less significant words were entirely capitalized in some fake news articles.\n",
    "       Example: \"ZERO\",\"PROBABLY\",\"VERY\"\n",
    "   \n",
    " * ## Presence of Hate Speech:\n",
    "       Some instances of hate speech were seen in fake news articles.\n",
    "       Example: \"President Liar Pants\",\"President Angry Pants\"\n",
    "   \n",
    " * ## Repetion of some particular words throughout the text:\n",
    "       It was seen that certain specific words were repeated throughout the fake news article which don't make any sense.\n",
    "       Example: \"Pew Research Center\" and \"fake news media\" were repeated in the samples 1 and 5 of \"Sample Text of Fake News\" respectively\n",
    "   \n",
    "   "
   ]
  },
  {
   "cell_type": "markdown",
   "id": "316819de-359a-49c0-9bb9-7c5ee32aecd0",
   "metadata": {},
   "source": [
    "# What cannot be done:\n",
    " * ## Converting the letters to lowercase :\n",
    "        As it is seen the Uppercase letters randomly present within the text can be a pattern to detect fake news.\n",
    "   \n",
    " * ## Removing the punctuations from text :\n",
    "        It is one of the pattern to detect the fake news.\n",
    "   \n",
    " * ## Giving the entire 'text' column to our model:\n",
    "        The average num_of_words in text field of both true news and fake news is 367 and 373 respectively.\n",
    "        Huge context window required.Not Possible\n",
    "   \n",
    " * ## Just providing the 'title' column to our model:\n",
    "        The title feature would not be enough to accurately predict whether the news is fake or not."
   ]
  },
  {
   "cell_type": "code",
   "execution_count": null,
   "id": "37017260-58e2-4098-8121-e632a3d9474c",
   "metadata": {},
   "outputs": [],
   "source": []
  }
 ],
 "metadata": {
  "kernelspec": {
   "display_name": "Python 3 (ipykernel)",
   "language": "python",
   "name": "python3"
  },
  "language_info": {
   "codemirror_mode": {
    "name": "ipython",
    "version": 3
   },
   "file_extension": ".py",
   "mimetype": "text/x-python",
   "name": "python",
   "nbconvert_exporter": "python",
   "pygments_lexer": "ipython3",
   "version": "3.10.12"
  }
 },
 "nbformat": 4,
 "nbformat_minor": 5
}
