{
 "cells": [
  {
   "cell_type": "code",
   "execution_count": 1,
   "id": "25cf085a-ca55-43ba-b435-63446a8b4450",
   "metadata": {},
   "outputs": [
    {
     "name": "stderr",
     "output_type": "stream",
     "text": [
      "2025-02-15 19:00:57.576641: I tensorflow/core/util/port.cc:153] oneDNN custom operations are on. You may see slightly different numerical results due to floating-point round-off errors from different computation orders. To turn them off, set the environment variable `TF_ENABLE_ONEDNN_OPTS=0`.\n",
      "2025-02-15 19:00:57.588143: E external/local_xla/xla/stream_executor/cuda/cuda_fft.cc:477] Unable to register cuFFT factory: Attempting to register factory for plugin cuFFT when one has already been registered\n",
      "WARNING: All log messages before absl::InitializeLog() is called are written to STDERR\n",
      "E0000 00:00:1739626257.604652   34646 cuda_dnn.cc:8310] Unable to register cuDNN factory: Attempting to register factory for plugin cuDNN when one has already been registered\n",
      "E0000 00:00:1739626257.609507   34646 cuda_blas.cc:1418] Unable to register cuBLAS factory: Attempting to register factory for plugin cuBLAS when one has already been registered\n",
      "2025-02-15 19:00:57.621803: I tensorflow/core/platform/cpu_feature_guard.cc:210] This TensorFlow binary is optimized to use available CPU instructions in performance-critical operations.\n",
      "To enable the following instructions: AVX2 AVX_VNNI FMA, in other operations, rebuild TensorFlow with the appropriate compiler flags.\n"
     ]
    }
   ],
   "source": [
    "import numpy as np\n",
    "import pandas as pd\n",
    "import tensorflow as tf"
   ]
  },
  {
   "cell_type": "code",
   "execution_count": 2,
   "id": "39761b71-a868-4b29-8de4-cf02be711038",
   "metadata": {},
   "outputs": [],
   "source": [
    "import os"
   ]
  },
  {
   "cell_type": "code",
   "execution_count": 3,
   "id": "573abb0f-364b-49a8-a336-fe2539ef9ebe",
   "metadata": {},
   "outputs": [],
   "source": [
    "data_path=os.path.join(\"..\",\"Data\",\"lstm_model_data_v1.csv\")"
   ]
  },
  {
   "cell_type": "code",
   "execution_count": 4,
   "id": "2690f7ad-7bda-4ac7-8452-9623eacda570",
   "metadata": {},
   "outputs": [],
   "source": [
    "data=pd.read_csv(data_path)"
   ]
  },
  {
   "cell_type": "code",
   "execution_count": 5,
   "id": "2975f501-139e-4835-9b49-5912d987d229",
   "metadata": {},
   "outputs": [],
   "source": [
    "data.dropna(inplace=True)"
   ]
  },
  {
   "cell_type": "code",
   "execution_count": 6,
   "id": "057545ed-6473-470b-adc1-21028803a213",
   "metadata": {},
   "outputs": [
    {
     "data": {
      "text/html": [
       "<div>\n",
       "<style scoped>\n",
       "    .dataframe tbody tr th:only-of-type {\n",
       "        vertical-align: middle;\n",
       "    }\n",
       "\n",
       "    .dataframe tbody tr th {\n",
       "        vertical-align: top;\n",
       "    }\n",
       "\n",
       "    .dataframe thead th {\n",
       "        text-align: right;\n",
       "    }\n",
       "</style>\n",
       "<table border=\"1\" class=\"dataframe\">\n",
       "  <thead>\n",
       "    <tr style=\"text-align: right;\">\n",
       "      <th></th>\n",
       "      <th>processed_text_upto_300_words</th>\n",
       "      <th>label</th>\n",
       "    </tr>\n",
       "  </thead>\n",
       "  <tbody>\n",
       "    <tr>\n",
       "      <th>0</th>\n",
       "      <td>students faculty georgetown law school gathere...</td>\n",
       "      <td>1</td>\n",
       "    </tr>\n",
       "    <tr>\n",
       "      <th>1</th>\n",
       "      <td>beirut parliament group lebanon hezbollah said...</td>\n",
       "      <td>1</td>\n",
       "    </tr>\n",
       "    <tr>\n",
       "      <th>2</th>\n",
       "      <td>kabul us ambassador afghanistan said monday wo...</td>\n",
       "      <td>1</td>\n",
       "    </tr>\n",
       "    <tr>\n",
       "      <th>3</th>\n",
       "      <td>berlin chancellor angela merkel friday said ge...</td>\n",
       "      <td>1</td>\n",
       "    </tr>\n",
       "    <tr>\n",
       "      <th>4</th>\n",
       "      <td>easy blame white man way accountable actions l...</td>\n",
       "      <td>0</td>\n",
       "    </tr>\n",
       "    <tr>\n",
       "      <th>...</th>\n",
       "      <td>...</td>\n",
       "      <td>...</td>\n",
       "    </tr>\n",
       "    <tr>\n",
       "      <th>44892</th>\n",
       "      <td>donald trump literally used national prayer br...</td>\n",
       "      <td>0</td>\n",
       "    </tr>\n",
       "    <tr>\n",
       "      <th>44893</th>\n",
       "      <td>time drag donald trump office act soon constit...</td>\n",
       "      <td>0</td>\n",
       "    </tr>\n",
       "    <tr>\n",
       "      <th>44895</th>\n",
       "      <td>donald trump misogynistic behavior towards wom...</td>\n",
       "      <td>0</td>\n",
       "    </tr>\n",
       "    <tr>\n",
       "      <th>44896</th>\n",
       "      <td>president donald trump declined friday explain...</td>\n",
       "      <td>1</td>\n",
       "    </tr>\n",
       "    <tr>\n",
       "      <th>44897</th>\n",
       "      <td>dhaka hundreds people rushed bangladeshi commu...</td>\n",
       "      <td>1</td>\n",
       "    </tr>\n",
       "  </tbody>\n",
       "</table>\n",
       "<p>44196 rows × 2 columns</p>\n",
       "</div>"
      ],
      "text/plain": [
       "                           processed_text_upto_300_words  label\n",
       "0      students faculty georgetown law school gathere...      1\n",
       "1      beirut parliament group lebanon hezbollah said...      1\n",
       "2      kabul us ambassador afghanistan said monday wo...      1\n",
       "3      berlin chancellor angela merkel friday said ge...      1\n",
       "4      easy blame white man way accountable actions l...      0\n",
       "...                                                  ...    ...\n",
       "44892  donald trump literally used national prayer br...      0\n",
       "44893  time drag donald trump office act soon constit...      0\n",
       "44895  donald trump misogynistic behavior towards wom...      0\n",
       "44896  president donald trump declined friday explain...      1\n",
       "44897  dhaka hundreds people rushed bangladeshi commu...      1\n",
       "\n",
       "[44196 rows x 2 columns]"
      ]
     },
     "execution_count": 6,
     "metadata": {},
     "output_type": "execute_result"
    }
   ],
   "source": [
    "data"
   ]
  },
  {
   "cell_type": "code",
   "execution_count": 7,
   "id": "58d06e29-1699-476e-9666-355c0a4e87eb",
   "metadata": {},
   "outputs": [
    {
     "name": "stdout",
     "output_type": "stream",
     "text": [
      "<class 'pandas.core.frame.DataFrame'>\n",
      "Index: 44196 entries, 0 to 44897\n",
      "Data columns (total 2 columns):\n",
      " #   Column                         Non-Null Count  Dtype \n",
      "---  ------                         --------------  ----- \n",
      " 0   processed_text_upto_300_words  44196 non-null  object\n",
      " 1   label                          44196 non-null  int64 \n",
      "dtypes: int64(1), object(1)\n",
      "memory usage: 1.0+ MB\n"
     ]
    }
   ],
   "source": [
    "data.info()"
   ]
  },
  {
   "cell_type": "code",
   "execution_count": 8,
   "id": "fb9f8b64-e702-4f60-852d-6339934c1e0b",
   "metadata": {},
   "outputs": [],
   "source": [
    "data_X=data[\"processed_text_upto_300_words\"]\n",
    "data_Y=data[\"label\"]"
   ]
  },
  {
   "cell_type": "markdown",
   "id": "13ae6037-f8cf-44de-907e-4579ec19fa62",
   "metadata": {},
   "source": [
    "## Tokenize Text"
   ]
  },
  {
   "cell_type": "code",
   "execution_count": 9,
   "id": "840cc283-44b6-4c17-8cee-8dc9783642a2",
   "metadata": {},
   "outputs": [],
   "source": [
    "from tensorflow.keras.preprocessing.text import Tokenizer"
   ]
  },
  {
   "cell_type": "code",
   "execution_count": 10,
   "id": "b84b2a16-cb13-4212-bbfd-5852e23debbb",
   "metadata": {},
   "outputs": [],
   "source": [
    "tokenizer=Tokenizer()"
   ]
  },
  {
   "cell_type": "code",
   "execution_count": 11,
   "id": "127f2c7e-3e40-44b7-af7a-ba150f85b827",
   "metadata": {},
   "outputs": [],
   "source": [
    "tokenizer.fit_on_texts(data_X)"
   ]
  },
  {
   "cell_type": "code",
   "execution_count": 12,
   "id": "bedc2b7b-6f8f-498d-8f83-93cb0d0fe14d",
   "metadata": {},
   "outputs": [],
   "source": [
    "tokenized_text=tokenizer.texts_to_sequences(data_X)"
   ]
  },
  {
   "cell_type": "code",
   "execution_count": 13,
   "id": "2b12dd35-fbf2-4aaf-b971-8aa19dd544d7",
   "metadata": {},
   "outputs": [],
   "source": [
    "vocab_length=len(tokenizer.word_index)"
   ]
  },
  {
   "cell_type": "code",
   "execution_count": 14,
   "id": "a10d35e0-6b7e-43a0-b5bb-09347b4ac0ca",
   "metadata": {},
   "outputs": [
    {
     "data": {
      "text/plain": [
       "108786"
      ]
     },
     "execution_count": 14,
     "metadata": {},
     "output_type": "execute_result"
    }
   ],
   "source": [
    "vocab_length"
   ]
  },
  {
   "cell_type": "code",
   "execution_count": 15,
   "id": "3948d759-a55b-4685-ba2c-b7cf208e82d8",
   "metadata": {},
   "outputs": [],
   "source": [
    "word_index=tokenizer.word_index"
   ]
  },
  {
   "cell_type": "markdown",
   "id": "3b8058cf-d2b9-448b-bf67-999968b03911",
   "metadata": {},
   "source": [
    "## Pad Sequences"
   ]
  },
  {
   "cell_type": "code",
   "execution_count": 16,
   "id": "5042e795-652f-465c-b286-92cd0224f852",
   "metadata": {},
   "outputs": [],
   "source": [
    "from tensorflow.keras.preprocessing.sequence import pad_sequences"
   ]
  },
  {
   "cell_type": "code",
   "execution_count": 17,
   "id": "bffdbebc-92fa-42a1-8804-7db2b5f29161",
   "metadata": {},
   "outputs": [],
   "source": [
    "padded_text=pad_sequences(tokenized_text,maxlen=300,truncating=\"post\",padding=\"post\")"
   ]
  },
  {
   "cell_type": "code",
   "execution_count": 18,
   "id": "a684c57a-d890-4c1a-9177-83b83c6c7de6",
   "metadata": {},
   "outputs": [
    {
     "data": {
      "text/plain": [
       "(44196, 300)"
      ]
     },
     "execution_count": 18,
     "metadata": {},
     "output_type": "execute_result"
    }
   ],
   "source": [
    "padded_text.shape"
   ]
  },
  {
   "cell_type": "markdown",
   "id": "4d200ba3-7a1c-42c2-9d64-bcc36998b54b",
   "metadata": {},
   "source": [
    "## Embedding matrix"
   ]
  },
  {
   "cell_type": "code",
   "execution_count": 19,
   "id": "cb7f9a53-259a-4481-b338-652fdf8215ae",
   "metadata": {},
   "outputs": [],
   "source": [
    "embedding_matrix=np.zeros((vocab_length+1,100))"
   ]
  },
  {
   "cell_type": "code",
   "execution_count": 20,
   "id": "612d046e-17f2-420b-9d67-17ee7fac2139",
   "metadata": {},
   "outputs": [],
   "source": [
    "embedding_path=os.path.join(\"..\",\"Data\",\"glove.6B.100d.txt\")"
   ]
  },
  {
   "cell_type": "code",
   "execution_count": 21,
   "id": "3b033adc-fc17-4010-8146-2cf208861c9a",
   "metadata": {},
   "outputs": [],
   "source": [
    "embed_dict={}\n",
    "with open(embedding_path,'r',encoding='utf-8') as file:\n",
    "    for line in file:\n",
    "        vector=line.split()\n",
    "        word=vector[0]\n",
    "        embed=np.asarray(vector[1:])\n",
    "        embed_dict[word]=embed\n",
    "\n",
    "for word,index in word_index.items():\n",
    "    if word in embed_dict.keys():\n",
    "        embedding_matrix[index]=embed_dict[word]\n",
    "        "
   ]
  },
  {
   "cell_type": "code",
   "execution_count": 22,
   "id": "fede6caa-abcd-4d67-a13a-80ad14f58544",
   "metadata": {},
   "outputs": [
    {
     "data": {
      "text/plain": [
       "(108787, 100)"
      ]
     },
     "execution_count": 22,
     "metadata": {},
     "output_type": "execute_result"
    }
   ],
   "source": [
    "embedding_matrix.shape"
   ]
  },
  {
   "cell_type": "markdown",
   "id": "7cd4e48d-534c-4a03-8824-e46a8d908d0c",
   "metadata": {},
   "source": [
    "### Important Note: There will be 6 Lstm models and each having 60 words per instance."
   ]
  },
  {
   "cell_type": "markdown",
   "id": "ed17bee3-2d9f-489e-9b55-dc6a45e0ab62",
   "metadata": {},
   "source": [
    "## Model Building"
   ]
  },
  {
   "cell_type": "code",
   "execution_count": 23,
   "id": "16170f7e-265e-4ae9-89c5-983eb694ee96",
   "metadata": {},
   "outputs": [],
   "source": [
    "from tensorflow.keras.layers import Input\n"
   ]
  },
  {
   "cell_type": "code",
   "execution_count": 24,
   "id": "b3138ae3-23c2-434b-aeca-171323b41820",
   "metadata": {},
   "outputs": [],
   "source": [
    "from multi_lstm_layer import MultiLSTMLayer"
   ]
  },
  {
   "cell_type": "code",
   "execution_count": 25,
   "id": "f5bec6f3-c2f5-4443-8228-e3a0450e0668",
   "metadata": {},
   "outputs": [],
   "source": [
    "basic_text_processing_layer_config={\n",
    "    \"lstm_layer_config\":[\n",
    "        {\n",
    "            \"units\":8,\n",
    "            \"activation\":\"relu\",\n",
    "            \"return_sequences\":True,\n",
    "            \"bidirection\":True\n",
    "        },\n",
    "        {\n",
    "            \"units\":32,\n",
    "            \"activation\":\"relu\",\n",
    "            \"return_sequences\":True,\n",
    "            \"bidirection\":False\n",
    "        },\n",
    "        {\n",
    "            \"units\":64,\n",
    "            \"activation\":\"relu\",\n",
    "            \"return_sequences\":False,\n",
    "            \"bidirection\":False\n",
    "        }\n",
    "        \n",
    "    ],\n",
    "    \"dense_layer_config\":[\n",
    "        {\n",
    "           \"units\":128,\n",
    "           \"activation\":\"relu\",\n",
    "           \"kernel_initializer\":\"he_uniform\"\n",
    "        },\n",
    "        {\n",
    "           \"units\":256,\n",
    "           \"activation\":\"relu\",\n",
    "           \"kernel_initializer\":\"he_uniform\"\n",
    "        }\n",
    "        \n",
    "    ]\n",
    "}"
   ]
  },
  {
   "cell_type": "code",
   "execution_count": 26,
   "id": "56c13cc5-ccb3-4e14-957e-f84fb66cfe40",
   "metadata": {},
   "outputs": [],
   "source": [
    "inp=Input(shape=(300,),dtype=tf.int32)"
   ]
  },
  {
   "cell_type": "code",
   "execution_count": 27,
   "id": "f20c1d06-818d-4f66-869a-bda606140273",
   "metadata": {},
   "outputs": [
    {
     "name": "stderr",
     "output_type": "stream",
     "text": [
      "2025-02-15 19:01:10.266283: E external/local_xla/xla/stream_executor/cuda/cuda_driver.cc:152] failed call to cuInit: INTERNAL: CUDA error: Failed call to cuInit: UNKNOWN ERROR (303)\n"
     ]
    }
   ],
   "source": [
    "x=MultiLSTMLayer(\n",
    "    basic_text_processing_layer_config=basic_text_processing_layer_config,\n",
    "    embedding_matrix=embedding_matrix,\n",
    "    num_models=6,\n",
    "    vocab_size=vocab_length+1,\n",
    "    embedding_output_dim=100\n",
    ")(inp)"
   ]
  },
  {
   "cell_type": "code",
   "execution_count": 28,
   "id": "01913d3f-0bd0-433b-b77a-b7113f101658",
   "metadata": {},
   "outputs": [],
   "source": [
    "from tensorflow.keras.models import Model"
   ]
  },
  {
   "cell_type": "code",
   "execution_count": 29,
   "id": "2f3af1ac-469a-46dd-9836-060c3cf80488",
   "metadata": {},
   "outputs": [],
   "source": [
    "model=Model(inputs=inp,outputs=x)"
   ]
  },
  {
   "cell_type": "code",
   "execution_count": 30,
   "id": "fd4f9a8d-2dec-44c5-8720-7fd7ac88e71c",
   "metadata": {},
   "outputs": [
    {
     "data": {
      "text/html": [
       "<pre style=\"white-space:pre;overflow-x:auto;line-height:normal;font-family:Menlo,'DejaVu Sans Mono',consolas,'Courier New',monospace\"><span style=\"font-weight: bold\">Model: \"functional\"</span>\n",
       "</pre>\n"
      ],
      "text/plain": [
       "\u001b[1mModel: \"functional\"\u001b[0m\n"
      ]
     },
     "metadata": {},
     "output_type": "display_data"
    },
    {
     "data": {
      "text/html": [
       "<pre style=\"white-space:pre;overflow-x:auto;line-height:normal;font-family:Menlo,'DejaVu Sans Mono',consolas,'Courier New',monospace\">┏━━━━━━━━━━━━━━━━━━━━━━━━━━━━━━━━━┳━━━━━━━━━━━━━━━━━━━━━━━━┳━━━━━━━━━━━━━━━┓\n",
       "┃<span style=\"font-weight: bold\"> Layer (type)                    </span>┃<span style=\"font-weight: bold\"> Output Shape           </span>┃<span style=\"font-weight: bold\">       Param # </span>┃\n",
       "┡━━━━━━━━━━━━━━━━━━━━━━━━━━━━━━━━━╇━━━━━━━━━━━━━━━━━━━━━━━━╇━━━━━━━━━━━━━━━┩\n",
       "│ input_layer (<span style=\"color: #0087ff; text-decoration-color: #0087ff\">InputLayer</span>)        │ (<span style=\"color: #00d7ff; text-decoration-color: #00d7ff\">None</span>, <span style=\"color: #00af00; text-decoration-color: #00af00\">300</span>)            │             <span style=\"color: #00af00; text-decoration-color: #00af00\">0</span> │\n",
       "├─────────────────────────────────┼────────────────────────┼───────────────┤\n",
       "│ multi_lstm_layer                │ (<span style=\"color: #00d7ff; text-decoration-color: #00d7ff\">None</span>, <span style=\"color: #00af00; text-decoration-color: #00af00\">1</span>)              │    <span style=\"color: #00af00; text-decoration-color: #00af00\">18,449,349</span> │\n",
       "│ (<span style=\"color: #0087ff; text-decoration-color: #0087ff\">MultiLSTMLayer</span>)                │                        │               │\n",
       "└─────────────────────────────────┴────────────────────────┴───────────────┘\n",
       "</pre>\n"
      ],
      "text/plain": [
       "┏━━━━━━━━━━━━━━━━━━━━━━━━━━━━━━━━━┳━━━━━━━━━━━━━━━━━━━━━━━━┳━━━━━━━━━━━━━━━┓\n",
       "┃\u001b[1m \u001b[0m\u001b[1mLayer (type)                   \u001b[0m\u001b[1m \u001b[0m┃\u001b[1m \u001b[0m\u001b[1mOutput Shape          \u001b[0m\u001b[1m \u001b[0m┃\u001b[1m \u001b[0m\u001b[1m      Param #\u001b[0m\u001b[1m \u001b[0m┃\n",
       "┡━━━━━━━━━━━━━━━━━━━━━━━━━━━━━━━━━╇━━━━━━━━━━━━━━━━━━━━━━━━╇━━━━━━━━━━━━━━━┩\n",
       "│ input_layer (\u001b[38;5;33mInputLayer\u001b[0m)        │ (\u001b[38;5;45mNone\u001b[0m, \u001b[38;5;34m300\u001b[0m)            │             \u001b[38;5;34m0\u001b[0m │\n",
       "├─────────────────────────────────┼────────────────────────┼───────────────┤\n",
       "│ multi_lstm_layer                │ (\u001b[38;5;45mNone\u001b[0m, \u001b[38;5;34m1\u001b[0m)              │    \u001b[38;5;34m18,449,349\u001b[0m │\n",
       "│ (\u001b[38;5;33mMultiLSTMLayer\u001b[0m)                │                        │               │\n",
       "└─────────────────────────────────┴────────────────────────┴───────────────┘\n"
      ]
     },
     "metadata": {},
     "output_type": "display_data"
    },
    {
     "data": {
      "text/html": [
       "<pre style=\"white-space:pre;overflow-x:auto;line-height:normal;font-family:Menlo,'DejaVu Sans Mono',consolas,'Courier New',monospace\"><span style=\"font-weight: bold\"> Total params: </span><span style=\"color: #00af00; text-decoration-color: #00af00\">18,449,349</span> (70.38 MB)\n",
       "</pre>\n"
      ],
      "text/plain": [
       "\u001b[1m Total params: \u001b[0m\u001b[38;5;34m18,449,349\u001b[0m (70.38 MB)\n"
      ]
     },
     "metadata": {},
     "output_type": "display_data"
    },
    {
     "data": {
      "text/html": [
       "<pre style=\"white-space:pre;overflow-x:auto;line-height:normal;font-family:Menlo,'DejaVu Sans Mono',consolas,'Courier New',monospace\"><span style=\"font-weight: bold\"> Trainable params: </span><span style=\"color: #00af00; text-decoration-color: #00af00\">18,449,349</span> (70.38 MB)\n",
       "</pre>\n"
      ],
      "text/plain": [
       "\u001b[1m Trainable params: \u001b[0m\u001b[38;5;34m18,449,349\u001b[0m (70.38 MB)\n"
      ]
     },
     "metadata": {},
     "output_type": "display_data"
    },
    {
     "data": {
      "text/html": [
       "<pre style=\"white-space:pre;overflow-x:auto;line-height:normal;font-family:Menlo,'DejaVu Sans Mono',consolas,'Courier New',monospace\"><span style=\"font-weight: bold\"> Non-trainable params: </span><span style=\"color: #00af00; text-decoration-color: #00af00\">0</span> (0.00 B)\n",
       "</pre>\n"
      ],
      "text/plain": [
       "\u001b[1m Non-trainable params: \u001b[0m\u001b[38;5;34m0\u001b[0m (0.00 B)\n"
      ]
     },
     "metadata": {},
     "output_type": "display_data"
    }
   ],
   "source": [
    "model.summary()"
   ]
  },
  {
   "cell_type": "markdown",
   "id": "b5fa8eb1-dde7-4415-a9f5-007713e159d5",
   "metadata": {},
   "source": [
    "## Compile Model"
   ]
  },
  {
   "cell_type": "code",
   "execution_count": 31,
   "id": "cb61e340-7aaa-43aa-87e7-13e76f150c86",
   "metadata": {},
   "outputs": [],
   "source": [
    "from tensorflow.keras.optimizers import Adam"
   ]
  },
  {
   "cell_type": "code",
   "execution_count": 32,
   "id": "4d0a46cd-afa4-4571-ab9e-c878ad3af64d",
   "metadata": {},
   "outputs": [],
   "source": [
    "from tensorflow.keras.losses import BinaryCrossentropy"
   ]
  },
  {
   "cell_type": "code",
   "execution_count": 33,
   "id": "09c61dd9-5ff5-4c6b-a1a5-21d4e1d536f1",
   "metadata": {},
   "outputs": [],
   "source": [
    "from tensorflow.keras.metrics import Accuracy"
   ]
  },
  {
   "cell_type": "code",
   "execution_count": 34,
   "id": "09db7791-d566-4b2d-a1a8-80c368c7448c",
   "metadata": {},
   "outputs": [],
   "source": [
    "optimizer=Adam(\n",
    "    learning_rate=0.01,\n",
    "    beta_1=0.96,\n",
    "    beta_2=0.98\n",
    ")"
   ]
  },
  {
   "cell_type": "code",
   "execution_count": 35,
   "id": "eaffc218-8ded-4ee5-af79-dc9e3d35e4f0",
   "metadata": {},
   "outputs": [],
   "source": [
    "# loss_fn=BinaryCrossentropy()"
   ]
  },
  {
   "cell_type": "code",
   "execution_count": 36,
   "id": "bdc79a79-e14a-4443-9fd4-e1c272e7b443",
   "metadata": {},
   "outputs": [],
   "source": [
    "# metric=Accuracy()"
   ]
  },
  {
   "cell_type": "code",
   "execution_count": 37,
   "id": "d93d413e-457f-4eee-8378-d1a4cddf7776",
   "metadata": {},
   "outputs": [],
   "source": [
    "model.compile(\n",
    "    optimizer=optimizer,\n",
    "    loss=\"binary_crossentropy\",\n",
    "    metrics=[\"accuracy\"]\n",
    ")"
   ]
  },
  {
   "cell_type": "markdown",
   "id": "b0c8e152-db0c-4973-83c6-57ca563dfa5f",
   "metadata": {},
   "source": [
    "## Model Training"
   ]
  },
  {
   "cell_type": "code",
   "execution_count": 38,
   "id": "014bbcac-980e-4535-b0a1-b2289bd07ff2",
   "metadata": {},
   "outputs": [
    {
     "data": {
      "text/plain": [
       "(44196, 300)"
      ]
     },
     "execution_count": 38,
     "metadata": {},
     "output_type": "execute_result"
    }
   ],
   "source": [
    "X=padded_text\n",
    "X.shape"
   ]
  },
  {
   "cell_type": "code",
   "execution_count": 39,
   "id": "12fd6624-c3d2-47b3-909d-caecc3dce6e8",
   "metadata": {},
   "outputs": [
    {
     "data": {
      "text/plain": [
       "(44196,)"
      ]
     },
     "execution_count": 39,
     "metadata": {},
     "output_type": "execute_result"
    }
   ],
   "source": [
    "Y=np.array(data_Y)\n",
    "Y.shape"
   ]
  },
  {
   "cell_type": "code",
   "execution_count": 40,
   "id": "9018d540-0185-47e7-a4ab-989d4910cc9d",
   "metadata": {},
   "outputs": [],
   "source": [
    "batch_size=100\n",
    "epochs=30"
   ]
  },
  {
   "cell_type": "code",
   "execution_count": 41,
   "id": "00524f66-f8d4-4a5e-b3e5-41a94c4828af",
   "metadata": {},
   "outputs": [
    {
     "name": "stdout",
     "output_type": "stream",
     "text": [
      "Epoch 1/30\n",
      "\u001b[1m442/442\u001b[0m \u001b[32m━━━━━━━━━━━━━━━━━━━━\u001b[0m\u001b[37m\u001b[0m \u001b[1m135s\u001b[0m 267ms/step - accuracy: 0.5137 - loss: 1.5494\n",
      "Epoch 2/30\n",
      "\u001b[1m442/442\u001b[0m \u001b[32m━━━━━━━━━━━━━━━━━━━━\u001b[0m\u001b[37m\u001b[0m \u001b[1m117s\u001b[0m 265ms/step - accuracy: 0.5175 - loss: 0.6925\n",
      "Epoch 3/30\n",
      "\u001b[1m442/442\u001b[0m \u001b[32m━━━━━━━━━━━━━━━━━━━━\u001b[0m\u001b[37m\u001b[0m \u001b[1m119s\u001b[0m 270ms/step - accuracy: 0.5160 - loss: 0.6928\n",
      "Epoch 4/30\n",
      "\u001b[1m442/442\u001b[0m \u001b[32m━━━━━━━━━━━━━━━━━━━━\u001b[0m\u001b[37m\u001b[0m \u001b[1m120s\u001b[0m 271ms/step - accuracy: 0.5154 - loss: 0.6928\n",
      "Epoch 5/30\n",
      "\u001b[1m442/442\u001b[0m \u001b[32m━━━━━━━━━━━━━━━━━━━━\u001b[0m\u001b[37m\u001b[0m \u001b[1m119s\u001b[0m 269ms/step - accuracy: 0.5196 - loss: 0.6924\n",
      "Epoch 6/30\n",
      "\u001b[1m442/442\u001b[0m \u001b[32m━━━━━━━━━━━━━━━━━━━━\u001b[0m\u001b[37m\u001b[0m \u001b[1m117s\u001b[0m 264ms/step - accuracy: 0.5186 - loss: 0.6927\n",
      "Epoch 7/30\n",
      "\u001b[1m442/442\u001b[0m \u001b[32m━━━━━━━━━━━━━━━━━━━━\u001b[0m\u001b[37m\u001b[0m \u001b[1m120s\u001b[0m 272ms/step - accuracy: 0.5170 - loss: 0.6927\n",
      "Epoch 8/30\n",
      "\u001b[1m442/442\u001b[0m \u001b[32m━━━━━━━━━━━━━━━━━━━━\u001b[0m\u001b[37m\u001b[0m \u001b[1m122s\u001b[0m 276ms/step - accuracy: 0.5150 - loss: 0.6929\n",
      "Epoch 9/30\n",
      "\u001b[1m442/442\u001b[0m \u001b[32m━━━━━━━━━━━━━━━━━━━━\u001b[0m\u001b[37m\u001b[0m \u001b[1m121s\u001b[0m 273ms/step - accuracy: 0.5165 - loss: 0.6927\n",
      "Epoch 10/30\n",
      "\u001b[1m442/442\u001b[0m \u001b[32m━━━━━━━━━━━━━━━━━━━━\u001b[0m\u001b[37m\u001b[0m \u001b[1m118s\u001b[0m 267ms/step - accuracy: 0.5160 - loss: 0.6927\n",
      "Epoch 11/30\n",
      "\u001b[1m442/442\u001b[0m \u001b[32m━━━━━━━━━━━━━━━━━━━━\u001b[0m\u001b[37m\u001b[0m \u001b[1m20120s\u001b[0m 46s/step - accuracy: 0.5127 - loss: 0.6930\n",
      "Epoch 12/30\n",
      "\u001b[1m442/442\u001b[0m \u001b[32m━━━━━━━━━━━━━━━━━━━━\u001b[0m\u001b[37m\u001b[0m \u001b[1m118s\u001b[0m 267ms/step - accuracy: 0.5158 - loss: 0.6929\n",
      "Epoch 13/30\n",
      "\u001b[1m442/442\u001b[0m \u001b[32m━━━━━━━━━━━━━━━━━━━━\u001b[0m\u001b[37m\u001b[0m \u001b[1m118s\u001b[0m 267ms/step - accuracy: 0.5033 - loss: 0.6931\n",
      "Epoch 14/30\n",
      "\u001b[1m442/442\u001b[0m \u001b[32m━━━━━━━━━━━━━━━━━━━━\u001b[0m\u001b[37m\u001b[0m \u001b[1m117s\u001b[0m 265ms/step - accuracy: 0.5149 - loss: 0.6927\n",
      "Epoch 15/30\n",
      "\u001b[1m442/442\u001b[0m \u001b[32m━━━━━━━━━━━━━━━━━━━━\u001b[0m\u001b[37m\u001b[0m \u001b[1m113s\u001b[0m 255ms/step - accuracy: 0.5160 - loss: 0.6928\n",
      "Epoch 16/30\n",
      "\u001b[1m442/442\u001b[0m \u001b[32m━━━━━━━━━━━━━━━━━━━━\u001b[0m\u001b[37m\u001b[0m \u001b[1m401s\u001b[0m 910ms/step - accuracy: 0.5130 - loss: 0.6929\n",
      "Epoch 17/30\n",
      "\u001b[1m442/442\u001b[0m \u001b[32m━━━━━━━━━━━━━━━━━━━━\u001b[0m\u001b[37m\u001b[0m \u001b[1m116s\u001b[0m 262ms/step - accuracy: 0.5117 - loss: 0.6930\n",
      "Epoch 18/30\n",
      "\u001b[1m442/442\u001b[0m \u001b[32m━━━━━━━━━━━━━━━━━━━━\u001b[0m\u001b[37m\u001b[0m \u001b[1m119s\u001b[0m 270ms/step - accuracy: 0.5160 - loss: 0.6927\n",
      "Epoch 19/30\n",
      "\u001b[1m442/442\u001b[0m \u001b[32m━━━━━━━━━━━━━━━━━━━━\u001b[0m\u001b[37m\u001b[0m \u001b[1m120s\u001b[0m 271ms/step - accuracy: 0.5129 - loss: 0.6930\n",
      "Epoch 20/30\n",
      "\u001b[1m442/442\u001b[0m \u001b[32m━━━━━━━━━━━━━━━━━━━━\u001b[0m\u001b[37m\u001b[0m \u001b[1m123s\u001b[0m 278ms/step - accuracy: 0.5139 - loss: 0.6929\n",
      "Epoch 21/30\n",
      "\u001b[1m442/442\u001b[0m \u001b[32m━━━━━━━━━━━━━━━━━━━━\u001b[0m\u001b[37m\u001b[0m \u001b[1m121s\u001b[0m 273ms/step - accuracy: 0.5089 - loss: 0.6931\n",
      "Epoch 22/30\n",
      "\u001b[1m442/442\u001b[0m \u001b[32m━━━━━━━━━━━━━━━━━━━━\u001b[0m\u001b[37m\u001b[0m \u001b[1m120s\u001b[0m 271ms/step - accuracy: 0.5132 - loss: 0.6927\n",
      "Epoch 23/30\n",
      "\u001b[1m442/442\u001b[0m \u001b[32m━━━━━━━━━━━━━━━━━━━━\u001b[0m\u001b[37m\u001b[0m \u001b[1m121s\u001b[0m 273ms/step - accuracy: 0.5156 - loss: 0.6927\n",
      "Epoch 24/30\n",
      "\u001b[1m442/442\u001b[0m \u001b[32m━━━━━━━━━━━━━━━━━━━━\u001b[0m\u001b[37m\u001b[0m \u001b[1m120s\u001b[0m 272ms/step - accuracy: 0.5177 - loss: 0.6926\n",
      "Epoch 25/30\n",
      "\u001b[1m442/442\u001b[0m \u001b[32m━━━━━━━━━━━━━━━━━━━━\u001b[0m\u001b[37m\u001b[0m \u001b[1m121s\u001b[0m 273ms/step - accuracy: 0.5157 - loss: 0.6928\n",
      "Epoch 26/30\n",
      "\u001b[1m442/442\u001b[0m \u001b[32m━━━━━━━━━━━━━━━━━━━━\u001b[0m\u001b[37m\u001b[0m \u001b[1m-19731s\u001b[0m -44743023us/step - accuracy: 0.5119 - loss: 0.6931\n",
      "Epoch 27/30\n",
      "\u001b[1m442/442\u001b[0m \u001b[32m━━━━━━━━━━━━━━━━━━━━\u001b[0m\u001b[37m\u001b[0m \u001b[1m122s\u001b[0m 276ms/step - accuracy: 0.5165 - loss: 0.6927\n",
      "Epoch 28/30\n",
      "\u001b[1m442/442\u001b[0m \u001b[32m━━━━━━━━━━━━━━━━━━━━\u001b[0m\u001b[37m\u001b[0m \u001b[1m120s\u001b[0m 271ms/step - accuracy: 0.5100 - loss: 0.6929\n",
      "Epoch 29/30\n",
      "\u001b[1m442/442\u001b[0m \u001b[32m━━━━━━━━━━━━━━━━━━━━\u001b[0m\u001b[37m\u001b[0m \u001b[1m34644s\u001b[0m 79s/step - accuracy: 0.5131 - loss: 0.6929\n",
      "Epoch 30/30\n",
      "\u001b[1m442/442\u001b[0m \u001b[32m━━━━━━━━━━━━━━━━━━━━\u001b[0m\u001b[37m\u001b[0m \u001b[1m129s\u001b[0m 292ms/step - accuracy: 0.5182 - loss: 0.6926\n"
     ]
    }
   ],
   "source": [
    "history=model.fit(X,Y,batch_size=batch_size,epochs=epochs)"
   ]
  },
  {
   "cell_type": "code",
   "execution_count": 45,
   "id": "90d631b8-e83f-4f76-96b3-6e742bbf38f5",
   "metadata": {},
   "outputs": [],
   "source": [
    "import os"
   ]
  },
  {
   "cell_type": "code",
   "execution_count": 53,
   "id": "0d634b37-ea3e-4504-910c-8c7f3682b622",
   "metadata": {},
   "outputs": [],
   "source": [
    "lstm_model_path=os.path.join(\"..\",\"Models\",\"lstm_model.keras\");"
   ]
  },
  {
   "cell_type": "code",
   "execution_count": 54,
   "id": "4ab33f47-40a8-427b-a15f-cfb5f4c95765",
   "metadata": {},
   "outputs": [],
   "source": [
    "model.save(lstm_model_path)"
   ]
  },
  {
   "cell_type": "code",
   "execution_count": 42,
   "id": "139ff6ee-2ade-45b2-a991-6a78c735d008",
   "metadata": {},
   "outputs": [],
   "source": [
    "# for layer in model.layers:\n",
    "#     layer.trainable=True"
   ]
  },
  {
   "cell_type": "code",
   "execution_count": 43,
   "id": "10506291-90f2-4953-a43f-291afb987f35",
   "metadata": {},
   "outputs": [],
   "source": [
    "# for epoch in range(epochs):\n",
    "#     print(f\"Epoch:{epoch+1} started..\")\n",
    "    \n",
    "#     dataset=tf.data.Dataset.from_tensor_slices((X,Y))\n",
    "#     dataset=dataset.shuffle(buffer_size=1024).batch(batch_size)\n",
    "    \n",
    "    \n",
    "#     for step,(data_X,data_Y) in enumerate(dataset):\n",
    "#         with tf.GradientTape() as tape:\n",
    "#             predictions=model(data_X,training=True)\n",
    "#             loss=loss_fn(data_Y,predictions)\n",
    "            \n",
    "#         # print(f\"Pred:{predictions}\")\n",
    "#         # print(f\"Loss:{loss}\")\n",
    "        \n",
    "#         gradients=tape.gradient(loss,model.trainable_variables)\n",
    "#         optimizer.apply_gradients(zip(gradients,model.trainable_variables))\n",
    "        \n",
    "#         metric.update_state(data_Y, tf.argmax(predictions, axis=-1))\n",
    "        \n",
    "#         if step%20==0:\n",
    "#             print(f\"Epoch:{epoch+1} Step:{step+1} Accuracy:{metric.result().numpy()} Loss:{loss.numpy()}\")\n",
    "            \n",
    "#     print(f\"Epoch:{epoch+1} completed...\")\n",
    "#     print(f\"Epoch:{epoch+1}  Accuracy:{metric.result().numpy()}\")\n",
    "        "
   ]
  },
  {
   "cell_type": "code",
   "execution_count": null,
   "id": "8a489b91-a171-48b9-b70a-86284b20d3f0",
   "metadata": {},
   "outputs": [],
   "source": []
  },
  {
   "cell_type": "code",
   "execution_count": null,
   "id": "ad55492b-5ad5-46b6-a53d-1ddfacfd5e1a",
   "metadata": {},
   "outputs": [],
   "source": []
  }
 ],
 "metadata": {
  "kernelspec": {
   "display_name": "Python 3 (ipykernel)",
   "language": "python",
   "name": "python3"
  },
  "language_info": {
   "codemirror_mode": {
    "name": "ipython",
    "version": 3
   },
   "file_extension": ".py",
   "mimetype": "text/x-python",
   "name": "python",
   "nbconvert_exporter": "python",
   "pygments_lexer": "ipython3",
   "version": "3.10.12"
  }
 },
 "nbformat": 4,
 "nbformat_minor": 5
}
