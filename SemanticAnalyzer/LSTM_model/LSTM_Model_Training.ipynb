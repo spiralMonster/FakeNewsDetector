{
 "cells": [
  {
   "cell_type": "code",
   "execution_count": 1,
   "id": "25cf085a-ca55-43ba-b435-63446a8b4450",
   "metadata": {},
   "outputs": [
    {
     "name": "stderr",
     "output_type": "stream",
     "text": [
      "2025-02-13 20:43:08.789651: I tensorflow/core/util/port.cc:153] oneDNN custom operations are on. You may see slightly different numerical results due to floating-point round-off errors from different computation orders. To turn them off, set the environment variable `TF_ENABLE_ONEDNN_OPTS=0`.\n",
      "2025-02-13 20:43:08.798340: E external/local_xla/xla/stream_executor/cuda/cuda_fft.cc:477] Unable to register cuFFT factory: Attempting to register factory for plugin cuFFT when one has already been registered\n",
      "WARNING: All log messages before absl::InitializeLog() is called are written to STDERR\n",
      "E0000 00:00:1739459588.808679   45159 cuda_dnn.cc:8310] Unable to register cuDNN factory: Attempting to register factory for plugin cuDNN when one has already been registered\n",
      "E0000 00:00:1739459588.811742   45159 cuda_blas.cc:1418] Unable to register cuBLAS factory: Attempting to register factory for plugin cuBLAS when one has already been registered\n",
      "2025-02-13 20:43:08.822549: I tensorflow/core/platform/cpu_feature_guard.cc:210] This TensorFlow binary is optimized to use available CPU instructions in performance-critical operations.\n",
      "To enable the following instructions: AVX2 AVX_VNNI FMA, in other operations, rebuild TensorFlow with the appropriate compiler flags.\n"
     ]
    }
   ],
   "source": [
    "import numpy as np\n",
    "import pandas as pd\n",
    "import tensorflow as tf"
   ]
  },
  {
   "cell_type": "code",
   "execution_count": 2,
   "id": "39761b71-a868-4b29-8de4-cf02be711038",
   "metadata": {},
   "outputs": [],
   "source": [
    "import os"
   ]
  },
  {
   "cell_type": "code",
   "execution_count": 3,
   "id": "573abb0f-364b-49a8-a336-fe2539ef9ebe",
   "metadata": {},
   "outputs": [],
   "source": [
    "data_path=os.path.join(\"..\",\"Data\",\"lstm_model_data_v1.csv\")"
   ]
  },
  {
   "cell_type": "code",
   "execution_count": 4,
   "id": "2690f7ad-7bda-4ac7-8452-9623eacda570",
   "metadata": {},
   "outputs": [],
   "source": [
    "data=pd.read_csv(data_path)"
   ]
  },
  {
   "cell_type": "code",
   "execution_count": 8,
   "id": "2975f501-139e-4835-9b49-5912d987d229",
   "metadata": {},
   "outputs": [],
   "source": [
    "data.dropna(inplace=True)"
   ]
  },
  {
   "cell_type": "code",
   "execution_count": 9,
   "id": "057545ed-6473-470b-adc1-21028803a213",
   "metadata": {},
   "outputs": [
    {
     "data": {
      "text/html": [
       "<div>\n",
       "<style scoped>\n",
       "    .dataframe tbody tr th:only-of-type {\n",
       "        vertical-align: middle;\n",
       "    }\n",
       "\n",
       "    .dataframe tbody tr th {\n",
       "        vertical-align: top;\n",
       "    }\n",
       "\n",
       "    .dataframe thead th {\n",
       "        text-align: right;\n",
       "    }\n",
       "</style>\n",
       "<table border=\"1\" class=\"dataframe\">\n",
       "  <thead>\n",
       "    <tr style=\"text-align: right;\">\n",
       "      <th></th>\n",
       "      <th>processed_text_upto_300_words</th>\n",
       "      <th>label</th>\n",
       "    </tr>\n",
       "  </thead>\n",
       "  <tbody>\n",
       "    <tr>\n",
       "      <th>0</th>\n",
       "      <td>students faculty georgetown law school gathere...</td>\n",
       "      <td>1</td>\n",
       "    </tr>\n",
       "    <tr>\n",
       "      <th>1</th>\n",
       "      <td>beirut parliament group lebanon hezbollah said...</td>\n",
       "      <td>1</td>\n",
       "    </tr>\n",
       "    <tr>\n",
       "      <th>2</th>\n",
       "      <td>kabul us ambassador afghanistan said monday wo...</td>\n",
       "      <td>1</td>\n",
       "    </tr>\n",
       "    <tr>\n",
       "      <th>3</th>\n",
       "      <td>berlin chancellor angela merkel friday said ge...</td>\n",
       "      <td>1</td>\n",
       "    </tr>\n",
       "    <tr>\n",
       "      <th>4</th>\n",
       "      <td>easy blame white man way accountable actions l...</td>\n",
       "      <td>0</td>\n",
       "    </tr>\n",
       "    <tr>\n",
       "      <th>...</th>\n",
       "      <td>...</td>\n",
       "      <td>...</td>\n",
       "    </tr>\n",
       "    <tr>\n",
       "      <th>44892</th>\n",
       "      <td>donald trump literally used national prayer br...</td>\n",
       "      <td>0</td>\n",
       "    </tr>\n",
       "    <tr>\n",
       "      <th>44893</th>\n",
       "      <td>time drag donald trump office act soon constit...</td>\n",
       "      <td>0</td>\n",
       "    </tr>\n",
       "    <tr>\n",
       "      <th>44895</th>\n",
       "      <td>donald trump misogynistic behavior towards wom...</td>\n",
       "      <td>0</td>\n",
       "    </tr>\n",
       "    <tr>\n",
       "      <th>44896</th>\n",
       "      <td>president donald trump declined friday explain...</td>\n",
       "      <td>1</td>\n",
       "    </tr>\n",
       "    <tr>\n",
       "      <th>44897</th>\n",
       "      <td>dhaka hundreds people rushed bangladeshi commu...</td>\n",
       "      <td>1</td>\n",
       "    </tr>\n",
       "  </tbody>\n",
       "</table>\n",
       "<p>44196 rows × 2 columns</p>\n",
       "</div>"
      ],
      "text/plain": [
       "                           processed_text_upto_300_words  label\n",
       "0      students faculty georgetown law school gathere...      1\n",
       "1      beirut parliament group lebanon hezbollah said...      1\n",
       "2      kabul us ambassador afghanistan said monday wo...      1\n",
       "3      berlin chancellor angela merkel friday said ge...      1\n",
       "4      easy blame white man way accountable actions l...      0\n",
       "...                                                  ...    ...\n",
       "44892  donald trump literally used national prayer br...      0\n",
       "44893  time drag donald trump office act soon constit...      0\n",
       "44895  donald trump misogynistic behavior towards wom...      0\n",
       "44896  president donald trump declined friday explain...      1\n",
       "44897  dhaka hundreds people rushed bangladeshi commu...      1\n",
       "\n",
       "[44196 rows x 2 columns]"
      ]
     },
     "execution_count": 9,
     "metadata": {},
     "output_type": "execute_result"
    }
   ],
   "source": [
    "data"
   ]
  },
  {
   "cell_type": "code",
   "execution_count": 10,
   "id": "58d06e29-1699-476e-9666-355c0a4e87eb",
   "metadata": {},
   "outputs": [
    {
     "name": "stdout",
     "output_type": "stream",
     "text": [
      "<class 'pandas.core.frame.DataFrame'>\n",
      "Index: 44196 entries, 0 to 44897\n",
      "Data columns (total 2 columns):\n",
      " #   Column                         Non-Null Count  Dtype \n",
      "---  ------                         --------------  ----- \n",
      " 0   processed_text_upto_300_words  44196 non-null  object\n",
      " 1   label                          44196 non-null  int64 \n",
      "dtypes: int64(1), object(1)\n",
      "memory usage: 1.0+ MB\n"
     ]
    }
   ],
   "source": [
    "data.info()"
   ]
  },
  {
   "cell_type": "code",
   "execution_count": 28,
   "id": "fb9f8b64-e702-4f60-852d-6339934c1e0b",
   "metadata": {},
   "outputs": [],
   "source": [
    "data_X=data[\"processed_text_upto_300_words\"]\n",
    "data_Y=data[\"label\"]"
   ]
  },
  {
   "cell_type": "markdown",
   "id": "13ae6037-f8cf-44de-907e-4579ec19fa62",
   "metadata": {},
   "source": [
    "## Tokenize Text"
   ]
  },
  {
   "cell_type": "code",
   "execution_count": 163,
   "id": "840cc283-44b6-4c17-8cee-8dc9783642a2",
   "metadata": {},
   "outputs": [],
   "source": [
    "from tensorflow.keras.preprocessing.text import Tokenizer"
   ]
  },
  {
   "cell_type": "code",
   "execution_count": 164,
   "id": "b84b2a16-cb13-4212-bbfd-5852e23debbb",
   "metadata": {},
   "outputs": [],
   "source": [
    "tokenizer=Tokenizer()"
   ]
  },
  {
   "cell_type": "code",
   "execution_count": 165,
   "id": "127f2c7e-3e40-44b7-af7a-ba150f85b827",
   "metadata": {},
   "outputs": [],
   "source": [
    "tokenizer.fit_on_texts(data_X)"
   ]
  },
  {
   "cell_type": "code",
   "execution_count": 166,
   "id": "bedc2b7b-6f8f-498d-8f83-93cb0d0fe14d",
   "metadata": {},
   "outputs": [],
   "source": [
    "tokenized_text=tokenizer.texts_to_sequences(data_X)"
   ]
  },
  {
   "cell_type": "code",
   "execution_count": 167,
   "id": "2b12dd35-fbf2-4aaf-b971-8aa19dd544d7",
   "metadata": {},
   "outputs": [],
   "source": [
    "vocab_length=len(tokenizer.word_index)"
   ]
  },
  {
   "cell_type": "code",
   "execution_count": 168,
   "id": "a10d35e0-6b7e-43a0-b5bb-09347b4ac0ca",
   "metadata": {},
   "outputs": [
    {
     "data": {
      "text/plain": [
       "108786"
      ]
     },
     "execution_count": 168,
     "metadata": {},
     "output_type": "execute_result"
    }
   ],
   "source": [
    "vocab_length"
   ]
  },
  {
   "cell_type": "code",
   "execution_count": 169,
   "id": "3948d759-a55b-4685-ba2c-b7cf208e82d8",
   "metadata": {},
   "outputs": [],
   "source": [
    "word_index=tokenizer.word_index"
   ]
  },
  {
   "cell_type": "markdown",
   "id": "3b8058cf-d2b9-448b-bf67-999968b03911",
   "metadata": {},
   "source": [
    "## Pad Sequences"
   ]
  },
  {
   "cell_type": "code",
   "execution_count": 170,
   "id": "5042e795-652f-465c-b286-92cd0224f852",
   "metadata": {},
   "outputs": [],
   "source": [
    "from tensorflow.keras.preprocessing.sequence import pad_sequences"
   ]
  },
  {
   "cell_type": "code",
   "execution_count": 171,
   "id": "bffdbebc-92fa-42a1-8804-7db2b5f29161",
   "metadata": {},
   "outputs": [],
   "source": [
    "padded_text=pad_sequences(tokenized_text,maxlen=300,truncating=\"post\",padding=\"post\")"
   ]
  },
  {
   "cell_type": "code",
   "execution_count": 172,
   "id": "a684c57a-d890-4c1a-9177-83b83c6c7de6",
   "metadata": {},
   "outputs": [
    {
     "data": {
      "text/plain": [
       "(44196, 300)"
      ]
     },
     "execution_count": 172,
     "metadata": {},
     "output_type": "execute_result"
    }
   ],
   "source": [
    "padded_text.shape"
   ]
  },
  {
   "cell_type": "markdown",
   "id": "4d200ba3-7a1c-42c2-9d64-bcc36998b54b",
   "metadata": {},
   "source": [
    "## Embedding matrix"
   ]
  },
  {
   "cell_type": "code",
   "execution_count": 52,
   "id": "cb7f9a53-259a-4481-b338-652fdf8215ae",
   "metadata": {},
   "outputs": [],
   "source": [
    "embedding_matrix=np.zeros((vocab_length+1,100))"
   ]
  },
  {
   "cell_type": "code",
   "execution_count": 53,
   "id": "612d046e-17f2-420b-9d67-17ee7fac2139",
   "metadata": {},
   "outputs": [],
   "source": [
    "embedding_path=os.path.join(\"..\",\"Data\",\"glove.6B.100d.txt\")"
   ]
  },
  {
   "cell_type": "code",
   "execution_count": 59,
   "id": "3b033adc-fc17-4010-8146-2cf208861c9a",
   "metadata": {},
   "outputs": [],
   "source": [
    "embed_dict={}\n",
    "with open(embedding_path,'r',encoding='utf-8') as file:\n",
    "    for line in file:\n",
    "        vector=line.split()\n",
    "        word=vector[0]\n",
    "        embed=np.asarray(vector[1:])\n",
    "        embed_dict[word]=embed\n",
    "\n",
    "for word,index in word_index.items():\n",
    "    if word in embed_dict.keys():\n",
    "        embedding_matrix[index]=embed_dict[word]\n",
    "        "
   ]
  },
  {
   "cell_type": "code",
   "execution_count": 77,
   "id": "fede6caa-abcd-4d67-a13a-80ad14f58544",
   "metadata": {},
   "outputs": [
    {
     "data": {
      "text/plain": [
       "(108787, 100)"
      ]
     },
     "execution_count": 77,
     "metadata": {},
     "output_type": "execute_result"
    }
   ],
   "source": [
    "embedding_matrix.shape"
   ]
  },
  {
   "cell_type": "markdown",
   "id": "7cd4e48d-534c-4a03-8824-e46a8d908d0c",
   "metadata": {},
   "source": [
    "### Important Note: There will be 6 Lstm models and each having 60 words per instance."
   ]
  },
  {
   "cell_type": "code",
   "execution_count": 173,
   "id": "16170f7e-265e-4ae9-89c5-983eb694ee96",
   "metadata": {},
   "outputs": [],
   "source": [
    "from tensorflow.keras.layers import Input\n"
   ]
  },
  {
   "cell_type": "code",
   "execution_count": 174,
   "id": "a8d4a494-0bc3-4b90-b58c-e7f68159e8e8",
   "metadata": {},
   "outputs": [],
   "source": [
    "inp=Input(shape=(300,),dtype=tf.int32)"
   ]
  },
  {
   "cell_type": "code",
   "execution_count": 175,
   "id": "b3522c41-7a47-43ca-8594-de4d3e369515",
   "metadata": {},
   "outputs": [
    {
     "data": {
      "text/plain": [
       "(None, 300)"
      ]
     },
     "execution_count": 175,
     "metadata": {},
     "output_type": "execute_result"
    }
   ],
   "source": [
    "inp.shape"
   ]
  },
  {
   "cell_type": "code",
   "execution_count": null,
   "id": "f5b49984-1e12-4260-9db5-b859bb7cea4d",
   "metadata": {},
   "outputs": [],
   "source": []
  }
 ],
 "metadata": {
  "kernelspec": {
   "display_name": "Python 3 (ipykernel)",
   "language": "python",
   "name": "python3"
  },
  "language_info": {
   "codemirror_mode": {
    "name": "ipython",
    "version": 3
   },
   "file_extension": ".py",
   "mimetype": "text/x-python",
   "name": "python",
   "nbconvert_exporter": "python",
   "pygments_lexer": "ipython3",
   "version": "3.10.12"
  }
 },
 "nbformat": 4,
 "nbformat_minor": 5
}
